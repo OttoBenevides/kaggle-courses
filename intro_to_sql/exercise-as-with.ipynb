{
 "cells": [
  {
   "cell_type": "markdown",
   "id": "d8a462cc",
   "metadata": {
    "papermill": {
     "duration": 0.007486,
     "end_time": "2022-08-29T03:10:18.461038",
     "exception": false,
     "start_time": "2022-08-29T03:10:18.453552",
     "status": "completed"
    },
    "tags": []
   },
   "source": [
    "**This notebook is an exercise in the [SQL](https://www.kaggle.com/learn/intro-to-sql) course.  You can reference the tutorial at [this link](https://www.kaggle.com/dansbecker/as-with).**\n",
    "\n",
    "---\n"
   ]
  },
  {
   "cell_type": "markdown",
   "id": "e07e085b",
   "metadata": {
    "papermill": {
     "duration": 0.006108,
     "end_time": "2022-08-29T03:10:18.473787",
     "exception": false,
     "start_time": "2022-08-29T03:10:18.467679",
     "status": "completed"
    },
    "tags": []
   },
   "source": [
    "# Introduction\n",
    "\n",
    "You are getting to the point where you can own an analysis from beginning to end. So you'll do more data exploration in this exercise than you've done before.  Before you get started, run the following set-up code as usual. "
   ]
  },
  {
   "cell_type": "code",
   "execution_count": 1,
   "id": "de79c5a8",
   "metadata": {
    "execution": {
     "iopub.execute_input": "2022-08-29T03:10:18.489759Z",
     "iopub.status.busy": "2022-08-29T03:10:18.488713Z",
     "iopub.status.idle": "2022-08-29T03:10:21.900127Z",
     "shell.execute_reply": "2022-08-29T03:10:21.898924Z"
    },
    "papermill": {
     "duration": 3.423055,
     "end_time": "2022-08-29T03:10:21.903270",
     "exception": false,
     "start_time": "2022-08-29T03:10:18.480215",
     "status": "completed"
    },
    "tags": []
   },
   "outputs": [
    {
     "name": "stdout",
     "output_type": "stream",
     "text": [
      "Using Kaggle's public dataset BigQuery integration.\n"
     ]
    },
    {
     "name": "stderr",
     "output_type": "stream",
     "text": [
      "/opt/conda/lib/python3.7/site-packages/google/cloud/bigquery/client.py:440: UserWarning: Cannot create BigQuery Storage client, the dependency google-cloud-bigquery-storage is not installed.\n",
      "  \"Cannot create BigQuery Storage client, the dependency \"\n"
     ]
    },
    {
     "name": "stdout",
     "output_type": "stream",
     "text": [
      "Setup Complete\n"
     ]
    }
   ],
   "source": [
    "# Set up feedback system\n",
    "from learntools.core import binder\n",
    "binder.bind(globals())\n",
    "from learntools.sql.ex5 import *\n",
    "print(\"Setup Complete\")"
   ]
  },
  {
   "cell_type": "markdown",
   "id": "a7c0a85f",
   "metadata": {
    "papermill": {
     "duration": 0.006402,
     "end_time": "2022-08-29T03:10:21.916824",
     "exception": false,
     "start_time": "2022-08-29T03:10:21.910422",
     "status": "completed"
    },
    "tags": []
   },
   "source": [
    "You'll work with a dataset about taxi trips in the city of Chicago. Run the cell below to fetch the `chicago_taxi_trips` dataset."
   ]
  },
  {
   "cell_type": "code",
   "execution_count": 2,
   "id": "2612c0c5",
   "metadata": {
    "execution": {
     "iopub.execute_input": "2022-08-29T03:10:21.932879Z",
     "iopub.status.busy": "2022-08-29T03:10:21.932162Z",
     "iopub.status.idle": "2022-08-29T03:10:22.265195Z",
     "shell.execute_reply": "2022-08-29T03:10:22.263999Z"
    },
    "papermill": {
     "duration": 0.344712,
     "end_time": "2022-08-29T03:10:22.268383",
     "exception": false,
     "start_time": "2022-08-29T03:10:21.923671",
     "status": "completed"
    },
    "tags": []
   },
   "outputs": [
    {
     "name": "stdout",
     "output_type": "stream",
     "text": [
      "Using Kaggle's public dataset BigQuery integration.\n"
     ]
    }
   ],
   "source": [
    "from google.cloud import bigquery\n",
    "\n",
    "# Create a \"Client\" object\n",
    "client = bigquery.Client()\n",
    "\n",
    "# Construct a reference to the \"chicago_taxi_trips\" dataset\n",
    "dataset_ref = client.dataset(\"chicago_taxi_trips\", project=\"bigquery-public-data\")\n",
    "\n",
    "# API request - fetch the dataset\n",
    "dataset = client.get_dataset(dataset_ref)"
   ]
  },
  {
   "cell_type": "markdown",
   "id": "9cce156c",
   "metadata": {
    "papermill": {
     "duration": 0.006824,
     "end_time": "2022-08-29T03:10:22.282243",
     "exception": false,
     "start_time": "2022-08-29T03:10:22.275419",
     "status": "completed"
    },
    "tags": []
   },
   "source": [
    "# Exercises\n",
    "\n",
    "You are curious how much slower traffic moves when traffic volume is high. This involves a few steps.\n",
    "\n",
    "### 1) Find the data\n",
    "Before you can access the data, you need to find the table name with the data.\n",
    "\n",
    "*Hint*: Tab completion is helpful whenever you can't remember a command. Type `client.` and then hit the tab key. Don't forget the period before hitting tab."
   ]
  },
  {
   "cell_type": "code",
   "execution_count": 3,
   "id": "b2e462ec",
   "metadata": {
    "execution": {
     "iopub.execute_input": "2022-08-29T03:10:22.297620Z",
     "iopub.status.busy": "2022-08-29T03:10:22.297190Z",
     "iopub.status.idle": "2022-08-29T03:10:22.542008Z",
     "shell.execute_reply": "2022-08-29T03:10:22.540792Z"
    },
    "papermill": {
     "duration": 0.255892,
     "end_time": "2022-08-29T03:10:22.545047",
     "exception": false,
     "start_time": "2022-08-29T03:10:22.289155",
     "status": "completed"
    },
    "tags": []
   },
   "outputs": [
    {
     "name": "stdout",
     "output_type": "stream",
     "text": [
      "taxi_trips\n"
     ]
    }
   ],
   "source": [
    "# Your code here to find the table name\n",
    "tables = list(client.list_tables(dataset))\n",
    "\n",
    "for table in tables:\n",
    "    print(table.table_id)"
   ]
  },
  {
   "cell_type": "code",
   "execution_count": 4,
   "id": "f3a87bce",
   "metadata": {
    "execution": {
     "iopub.execute_input": "2022-08-29T03:10:22.561236Z",
     "iopub.status.busy": "2022-08-29T03:10:22.560574Z",
     "iopub.status.idle": "2022-08-29T03:10:22.572528Z",
     "shell.execute_reply": "2022-08-29T03:10:22.571538Z"
    },
    "papermill": {
     "duration": 0.023027,
     "end_time": "2022-08-29T03:10:22.575266",
     "exception": false,
     "start_time": "2022-08-29T03:10:22.552239",
     "status": "completed"
    },
    "tags": []
   },
   "outputs": [
    {
     "data": {
      "application/javascript": [
       "parent.postMessage({\"jupyterEvent\": \"custom.exercise_interaction\", \"data\": {\"outcomeType\": 1, \"valueTowardsCompletion\": 0.16666666666666666, \"interactionType\": 1, \"questionType\": 1, \"questionId\": \"1_GetTableName\", \"learnToolsVersion\": \"0.3.4\", \"failureMessage\": \"\", \"exceptionClass\": \"\", \"trace\": \"\"}}, \"*\")"
      ],
      "text/plain": [
       "<IPython.core.display.Javascript object>"
      ]
     },
     "metadata": {},
     "output_type": "display_data"
    },
    {
     "data": {
      "text/markdown": [
       "<span style=\"color:#33cc33\">Correct</span>"
      ],
      "text/plain": [
       "Correct"
      ]
     },
     "metadata": {},
     "output_type": "display_data"
    }
   ],
   "source": [
    "# Write the table name as a string below\n",
    "table_name = 'taxi_trips'\n",
    "\n",
    "# Check your answer\n",
    "q_1.check()"
   ]
  },
  {
   "cell_type": "markdown",
   "id": "762bdf99",
   "metadata": {
    "papermill": {
     "duration": 0.006678,
     "end_time": "2022-08-29T03:10:22.588712",
     "exception": false,
     "start_time": "2022-08-29T03:10:22.582034",
     "status": "completed"
    },
    "tags": []
   },
   "source": [
    "For the solution, uncomment the line below."
   ]
  },
  {
   "cell_type": "code",
   "execution_count": 5,
   "id": "0fa20bb3",
   "metadata": {
    "execution": {
     "iopub.execute_input": "2022-08-29T03:10:22.604736Z",
     "iopub.status.busy": "2022-08-29T03:10:22.604002Z",
     "iopub.status.idle": "2022-08-29T03:10:22.608893Z",
     "shell.execute_reply": "2022-08-29T03:10:22.607804Z"
    },
    "papermill": {
     "duration": 0.015817,
     "end_time": "2022-08-29T03:10:22.611429",
     "exception": false,
     "start_time": "2022-08-29T03:10:22.595612",
     "status": "completed"
    },
    "tags": []
   },
   "outputs": [],
   "source": [
    "#q_1.solution()"
   ]
  },
  {
   "cell_type": "markdown",
   "id": "c721dd0d",
   "metadata": {
    "papermill": {
     "duration": 0.006695,
     "end_time": "2022-08-29T03:10:22.625356",
     "exception": false,
     "start_time": "2022-08-29T03:10:22.618661",
     "status": "completed"
    },
    "tags": []
   },
   "source": [
    "### 2) Peek at the data\n",
    "\n",
    "Use the next code cell to peek at the top few rows of the data. Inspect the data and see if any issues with data quality are immediately obvious. "
   ]
  },
  {
   "cell_type": "code",
   "execution_count": 6,
   "id": "d6bcd8bc",
   "metadata": {
    "execution": {
     "iopub.execute_input": "2022-08-29T03:10:22.640934Z",
     "iopub.status.busy": "2022-08-29T03:10:22.640529Z",
     "iopub.status.idle": "2022-08-29T03:10:23.360946Z",
     "shell.execute_reply": "2022-08-29T03:10:23.359819Z"
    },
    "papermill": {
     "duration": 0.731439,
     "end_time": "2022-08-29T03:10:23.363691",
     "exception": false,
     "start_time": "2022-08-29T03:10:22.632252",
     "status": "completed"
    },
    "tags": []
   },
   "outputs": [
    {
     "name": "stderr",
     "output_type": "stream",
     "text": [
      "/opt/conda/lib/python3.7/site-packages/ipykernel_launcher.py:4: UserWarning: Cannot use bqstorage_client if max_results is set, reverting to fetching data with the tabledata.list endpoint.\n",
      "  after removing the cwd from sys.path.\n"
     ]
    },
    {
     "data": {
      "text/html": [
       "<div>\n",
       "<style scoped>\n",
       "    .dataframe tbody tr th:only-of-type {\n",
       "        vertical-align: middle;\n",
       "    }\n",
       "\n",
       "    .dataframe tbody tr th {\n",
       "        vertical-align: top;\n",
       "    }\n",
       "\n",
       "    .dataframe thead th {\n",
       "        text-align: right;\n",
       "    }\n",
       "</style>\n",
       "<table border=\"1\" class=\"dataframe\">\n",
       "  <thead>\n",
       "    <tr style=\"text-align: right;\">\n",
       "      <th></th>\n",
       "      <th>unique_key</th>\n",
       "      <th>taxi_id</th>\n",
       "      <th>trip_start_timestamp</th>\n",
       "      <th>trip_end_timestamp</th>\n",
       "      <th>trip_seconds</th>\n",
       "      <th>trip_miles</th>\n",
       "      <th>pickup_census_tract</th>\n",
       "      <th>dropoff_census_tract</th>\n",
       "      <th>pickup_community_area</th>\n",
       "      <th>dropoff_community_area</th>\n",
       "      <th>...</th>\n",
       "      <th>extras</th>\n",
       "      <th>trip_total</th>\n",
       "      <th>payment_type</th>\n",
       "      <th>company</th>\n",
       "      <th>pickup_latitude</th>\n",
       "      <th>pickup_longitude</th>\n",
       "      <th>pickup_location</th>\n",
       "      <th>dropoff_latitude</th>\n",
       "      <th>dropoff_longitude</th>\n",
       "      <th>dropoff_location</th>\n",
       "    </tr>\n",
       "  </thead>\n",
       "  <tbody>\n",
       "    <tr>\n",
       "      <th>0</th>\n",
       "      <td>a87e452ec8561990a676bc7b5e3fd56dde07132d</td>\n",
       "      <td>164ca43b6cd736df744b37d9f537022f147be159ab5150...</td>\n",
       "      <td>2014-01-09 19:00:00+00:00</td>\n",
       "      <td>2014-01-09 19:00:00+00:00</td>\n",
       "      <td>NaN</td>\n",
       "      <td>0.0</td>\n",
       "      <td>NaN</td>\n",
       "      <td>NaN</td>\n",
       "      <td>NaN</td>\n",
       "      <td>NaN</td>\n",
       "      <td>...</td>\n",
       "      <td>0.0</td>\n",
       "      <td>17.34</td>\n",
       "      <td>Credit Card</td>\n",
       "      <td>Chicago Elite Cab Corp. (Chicago Carriag</td>\n",
       "      <td>NaN</td>\n",
       "      <td>NaN</td>\n",
       "      <td>None</td>\n",
       "      <td>NaN</td>\n",
       "      <td>NaN</td>\n",
       "      <td>None</td>\n",
       "    </tr>\n",
       "    <tr>\n",
       "      <th>1</th>\n",
       "      <td>720faf38f916384b9760f041b130c648735f3cc2</td>\n",
       "      <td>7d21c2ca227db8f27dda96612bfe5520ab408fa9a462c8...</td>\n",
       "      <td>2014-08-20 14:45:00+00:00</td>\n",
       "      <td>2014-08-20 14:45:00+00:00</td>\n",
       "      <td>0.0</td>\n",
       "      <td>0.0</td>\n",
       "      <td>NaN</td>\n",
       "      <td>NaN</td>\n",
       "      <td>NaN</td>\n",
       "      <td>NaN</td>\n",
       "      <td>...</td>\n",
       "      <td>0.0</td>\n",
       "      <td>17.05</td>\n",
       "      <td>Credit Card</td>\n",
       "      <td>T.A.S. - Payment Only</td>\n",
       "      <td>NaN</td>\n",
       "      <td>NaN</td>\n",
       "      <td>None</td>\n",
       "      <td>NaN</td>\n",
       "      <td>NaN</td>\n",
       "      <td>None</td>\n",
       "    </tr>\n",
       "    <tr>\n",
       "      <th>2</th>\n",
       "      <td>70c2b1e85f90b4893255420a1c3dcd1dcdc78832</td>\n",
       "      <td>2da7a72559676f28d81edf5e68011b5a16c548ade88599...</td>\n",
       "      <td>2014-01-19 16:45:00+00:00</td>\n",
       "      <td>2014-01-19 17:00:00+00:00</td>\n",
       "      <td>960.0</td>\n",
       "      <td>0.0</td>\n",
       "      <td>NaN</td>\n",
       "      <td>NaN</td>\n",
       "      <td>NaN</td>\n",
       "      <td>NaN</td>\n",
       "      <td>...</td>\n",
       "      <td>0.0</td>\n",
       "      <td>21.06</td>\n",
       "      <td>Credit Card</td>\n",
       "      <td>Chicago Elite Cab Corp. (Chicago Carriag</td>\n",
       "      <td>NaN</td>\n",
       "      <td>NaN</td>\n",
       "      <td>None</td>\n",
       "      <td>NaN</td>\n",
       "      <td>NaN</td>\n",
       "      <td>None</td>\n",
       "    </tr>\n",
       "    <tr>\n",
       "      <th>3</th>\n",
       "      <td>31975179cf28ba1f127510a9b41af2ec4d539f43</td>\n",
       "      <td>2966e1dc6860fdd9b956fffd45dc8df03487ece230e63d...</td>\n",
       "      <td>2014-01-21 13:45:00+00:00</td>\n",
       "      <td>2014-01-21 14:15:00+00:00</td>\n",
       "      <td>1980.0</td>\n",
       "      <td>0.0</td>\n",
       "      <td>NaN</td>\n",
       "      <td>NaN</td>\n",
       "      <td>NaN</td>\n",
       "      <td>NaN</td>\n",
       "      <td>...</td>\n",
       "      <td>0.0</td>\n",
       "      <td>45.66</td>\n",
       "      <td>Credit Card</td>\n",
       "      <td>Chicago Elite Cab Corp. (Chicago Carriag</td>\n",
       "      <td>NaN</td>\n",
       "      <td>NaN</td>\n",
       "      <td>None</td>\n",
       "      <td>NaN</td>\n",
       "      <td>NaN</td>\n",
       "      <td>None</td>\n",
       "    </tr>\n",
       "    <tr>\n",
       "      <th>4</th>\n",
       "      <td>1cbf9e085db453aa3d05de8d00088dcbe1e7c576</td>\n",
       "      <td>75a6a6b4e014d27ba8e94667fb0c2feb9f17227df8305c...</td>\n",
       "      <td>2014-01-19 15:00:00+00:00</td>\n",
       "      <td>2014-01-19 15:00:00+00:00</td>\n",
       "      <td>0.0</td>\n",
       "      <td>0.0</td>\n",
       "      <td>NaN</td>\n",
       "      <td>NaN</td>\n",
       "      <td>NaN</td>\n",
       "      <td>NaN</td>\n",
       "      <td>...</td>\n",
       "      <td>0.0</td>\n",
       "      <td>15.00</td>\n",
       "      <td>Credit Card</td>\n",
       "      <td>Chicago Elite Cab Corp. (Chicago Carriag</td>\n",
       "      <td>NaN</td>\n",
       "      <td>NaN</td>\n",
       "      <td>None</td>\n",
       "      <td>NaN</td>\n",
       "      <td>NaN</td>\n",
       "      <td>None</td>\n",
       "    </tr>\n",
       "  </tbody>\n",
       "</table>\n",
       "<p>5 rows × 23 columns</p>\n",
       "</div>"
      ],
      "text/plain": [
       "                                 unique_key  \\\n",
       "0  a87e452ec8561990a676bc7b5e3fd56dde07132d   \n",
       "1  720faf38f916384b9760f041b130c648735f3cc2   \n",
       "2  70c2b1e85f90b4893255420a1c3dcd1dcdc78832   \n",
       "3  31975179cf28ba1f127510a9b41af2ec4d539f43   \n",
       "4  1cbf9e085db453aa3d05de8d00088dcbe1e7c576   \n",
       "\n",
       "                                             taxi_id  \\\n",
       "0  164ca43b6cd736df744b37d9f537022f147be159ab5150...   \n",
       "1  7d21c2ca227db8f27dda96612bfe5520ab408fa9a462c8...   \n",
       "2  2da7a72559676f28d81edf5e68011b5a16c548ade88599...   \n",
       "3  2966e1dc6860fdd9b956fffd45dc8df03487ece230e63d...   \n",
       "4  75a6a6b4e014d27ba8e94667fb0c2feb9f17227df8305c...   \n",
       "\n",
       "       trip_start_timestamp        trip_end_timestamp  trip_seconds  \\\n",
       "0 2014-01-09 19:00:00+00:00 2014-01-09 19:00:00+00:00           NaN   \n",
       "1 2014-08-20 14:45:00+00:00 2014-08-20 14:45:00+00:00           0.0   \n",
       "2 2014-01-19 16:45:00+00:00 2014-01-19 17:00:00+00:00         960.0   \n",
       "3 2014-01-21 13:45:00+00:00 2014-01-21 14:15:00+00:00        1980.0   \n",
       "4 2014-01-19 15:00:00+00:00 2014-01-19 15:00:00+00:00           0.0   \n",
       "\n",
       "   trip_miles  pickup_census_tract  dropoff_census_tract  \\\n",
       "0         0.0                  NaN                   NaN   \n",
       "1         0.0                  NaN                   NaN   \n",
       "2         0.0                  NaN                   NaN   \n",
       "3         0.0                  NaN                   NaN   \n",
       "4         0.0                  NaN                   NaN   \n",
       "\n",
       "   pickup_community_area  dropoff_community_area  ...  extras  trip_total  \\\n",
       "0                    NaN                     NaN  ...     0.0       17.34   \n",
       "1                    NaN                     NaN  ...     0.0       17.05   \n",
       "2                    NaN                     NaN  ...     0.0       21.06   \n",
       "3                    NaN                     NaN  ...     0.0       45.66   \n",
       "4                    NaN                     NaN  ...     0.0       15.00   \n",
       "\n",
       "   payment_type                                   company  pickup_latitude  \\\n",
       "0   Credit Card  Chicago Elite Cab Corp. (Chicago Carriag              NaN   \n",
       "1   Credit Card                     T.A.S. - Payment Only              NaN   \n",
       "2   Credit Card  Chicago Elite Cab Corp. (Chicago Carriag              NaN   \n",
       "3   Credit Card  Chicago Elite Cab Corp. (Chicago Carriag              NaN   \n",
       "4   Credit Card  Chicago Elite Cab Corp. (Chicago Carriag              NaN   \n",
       "\n",
       "  pickup_longitude pickup_location  dropoff_latitude  dropoff_longitude  \\\n",
       "0              NaN            None               NaN                NaN   \n",
       "1              NaN            None               NaN                NaN   \n",
       "2              NaN            None               NaN                NaN   \n",
       "3              NaN            None               NaN                NaN   \n",
       "4              NaN            None               NaN                NaN   \n",
       "\n",
       "  dropoff_location  \n",
       "0             None  \n",
       "1             None  \n",
       "2             None  \n",
       "3             None  \n",
       "4             None  \n",
       "\n",
       "[5 rows x 23 columns]"
      ]
     },
     "execution_count": 6,
     "metadata": {},
     "output_type": "execute_result"
    }
   ],
   "source": [
    "# Your code here\n",
    "table_ref = dataset_ref.table(table_name)\n",
    "table = client.get_table(table_ref)\n",
    "client.list_rows(table, max_results=5).to_dataframe()"
   ]
  },
  {
   "cell_type": "markdown",
   "id": "fc584144",
   "metadata": {
    "papermill": {
     "duration": 0.007106,
     "end_time": "2022-08-29T03:10:23.379592",
     "exception": false,
     "start_time": "2022-08-29T03:10:23.372486",
     "status": "completed"
    },
    "tags": []
   },
   "source": [
    "After deciding whether you see any important issues, run the code cell below."
   ]
  },
  {
   "cell_type": "code",
   "execution_count": 7,
   "id": "7f998c18",
   "metadata": {
    "execution": {
     "iopub.execute_input": "2022-08-29T03:10:23.396373Z",
     "iopub.status.busy": "2022-08-29T03:10:23.395906Z",
     "iopub.status.idle": "2022-08-29T03:10:23.400581Z",
     "shell.execute_reply": "2022-08-29T03:10:23.399639Z"
    },
    "papermill": {
     "duration": 0.015671,
     "end_time": "2022-08-29T03:10:23.402795",
     "exception": false,
     "start_time": "2022-08-29T03:10:23.387124",
     "status": "completed"
    },
    "tags": []
   },
   "outputs": [],
   "source": [
    "# Check your answer (Run this code cell to receive credit!)\n",
    "#q_2.solution()"
   ]
  },
  {
   "cell_type": "markdown",
   "id": "4fa0842a",
   "metadata": {
    "papermill": {
     "duration": 0.007315,
     "end_time": "2022-08-29T03:10:23.417865",
     "exception": false,
     "start_time": "2022-08-29T03:10:23.410550",
     "status": "completed"
    },
    "tags": []
   },
   "source": [
    "### 3) Determine when this data is from\n",
    "\n",
    "If the data is sufficiently old, we might be careful before assuming the data is still relevant to traffic patterns today. Write a query that counts the number of trips in each year.  \n",
    "\n",
    "Your results should have two columns:\n",
    "- `year` - the year of the trips\n",
    "- `num_trips` - the number of trips in that year\n",
    "\n",
    "Hints:\n",
    "- When using **GROUP BY** and **ORDER BY**, you should refer to the columns by the alias `year` that you set at the top of the **SELECT** query.\n",
    "- The SQL code to **SELECT** the year from `trip_start_timestamp` is <code>SELECT EXTRACT(YEAR FROM trip_start_timestamp)</code>\n",
    "- The **FROM** field can be a little tricky until you are used to it.  The format is:\n",
    "    1. A backick (the symbol \\`).\n",
    "    2. The project name. In this case it is `bigquery-public-data`.\n",
    "    3. A period.\n",
    "    4. The dataset name. In this case, it is `chicago_taxi_trips`.\n",
    "    5. A period.\n",
    "    6. The table name. You used this as your answer in **1) Find the data**.\n",
    "    7. A backtick (the symbol \\`)."
   ]
  },
  {
   "cell_type": "code",
   "execution_count": 8,
   "id": "61dee041",
   "metadata": {
    "execution": {
     "iopub.execute_input": "2022-08-29T03:10:23.435458Z",
     "iopub.status.busy": "2022-08-29T03:10:23.434788Z",
     "iopub.status.idle": "2022-08-29T03:10:24.407952Z",
     "shell.execute_reply": "2022-08-29T03:10:24.406725Z"
    },
    "papermill": {
     "duration": 0.984858,
     "end_time": "2022-08-29T03:10:24.410637",
     "exception": false,
     "start_time": "2022-08-29T03:10:23.425779",
     "status": "completed"
    },
    "tags": []
   },
   "outputs": [
    {
     "name": "stderr",
     "output_type": "stream",
     "text": [
      "/opt/conda/lib/python3.7/site-packages/google/cloud/bigquery/client.py:440: UserWarning: Cannot create BigQuery Storage client, the dependency google-cloud-bigquery-storage is not installed.\n",
      "  \"Cannot create BigQuery Storage client, the dependency \"\n"
     ]
    },
    {
     "name": "stdout",
     "output_type": "stream",
     "text": [
      "   year  num_trips\n",
      "0  2013   27217716\n",
      "1  2014   37395436\n",
      "2  2015   32385875\n",
      "3  2016   31759339\n",
      "4  2017   24988003\n",
      "5  2018   20732088\n",
      "6  2019   16477365\n",
      "7  2020    3889032\n",
      "8  2021    3948045\n",
      "9  2022    3521806\n"
     ]
    },
    {
     "data": {
      "application/javascript": [
       "parent.postMessage({\"jupyterEvent\": \"custom.exercise_interaction\", \"data\": {\"outcomeType\": 1, \"valueTowardsCompletion\": 0.16666666666666666, \"interactionType\": 1, \"questionType\": 2, \"questionId\": \"3_YearDistrib\", \"learnToolsVersion\": \"0.3.4\", \"failureMessage\": \"\", \"exceptionClass\": \"\", \"trace\": \"\"}}, \"*\")"
      ],
      "text/plain": [
       "<IPython.core.display.Javascript object>"
      ]
     },
     "metadata": {},
     "output_type": "display_data"
    },
    {
     "data": {
      "text/markdown": [
       "<span style=\"color:#33cc33\">Correct</span>"
      ],
      "text/plain": [
       "Correct"
      ]
     },
     "metadata": {},
     "output_type": "display_data"
    }
   ],
   "source": [
    "# Your code goes here\n",
    "rides_per_year_query = \"\"\"\n",
    "                       WITH years AS \n",
    "                       (\n",
    "                           SELECT EXTRACT(YEAR FROM trip_start_timestamp) AS year\n",
    "                           FROM `bigquery-public-data.chicago_taxi_trips.taxi_trips`\n",
    "                       )\n",
    "                       SELECT year, COUNT(1) AS num_trips\n",
    "                       FROM years\n",
    "                       GROUP BY year\n",
    "                       ORDER BY year\n",
    "                       \"\"\"\n",
    "\n",
    "# Set up the query (cancel the query if it would use too much of \n",
    "# your quota)\n",
    "safe_config = bigquery.QueryJobConfig(maximum_bytes_billed=10**10)\n",
    "rides_per_year_query_job = client.query(rides_per_year_query, job_config=safe_config) # Your code goes here\n",
    "\n",
    "# API request - run the query, and return a pandas DataFrame\n",
    "rides_per_year_result = rides_per_year_query_job.to_dataframe() # Your code goes here\n",
    "\n",
    "# View results\n",
    "print(rides_per_year_result)\n",
    "\n",
    "# Check your answer\n",
    "q_3.check()"
   ]
  },
  {
   "cell_type": "markdown",
   "id": "13aaadff",
   "metadata": {
    "papermill": {
     "duration": 0.007716,
     "end_time": "2022-08-29T03:10:24.426511",
     "exception": false,
     "start_time": "2022-08-29T03:10:24.418795",
     "status": "completed"
    },
    "tags": []
   },
   "source": [
    "For a hint or the solution, uncomment the appropriate line below."
   ]
  },
  {
   "cell_type": "code",
   "execution_count": 9,
   "id": "e37ebb0c",
   "metadata": {
    "execution": {
     "iopub.execute_input": "2022-08-29T03:10:24.444274Z",
     "iopub.status.busy": "2022-08-29T03:10:24.443876Z",
     "iopub.status.idle": "2022-08-29T03:10:24.447672Z",
     "shell.execute_reply": "2022-08-29T03:10:24.446862Z"
    },
    "papermill": {
     "duration": 0.015439,
     "end_time": "2022-08-29T03:10:24.449804",
     "exception": false,
     "start_time": "2022-08-29T03:10:24.434365",
     "status": "completed"
    },
    "tags": []
   },
   "outputs": [],
   "source": [
    "#q_3.hint()\n",
    "#q_3.solution()"
   ]
  },
  {
   "cell_type": "markdown",
   "id": "fb635996",
   "metadata": {
    "papermill": {
     "duration": 0.007652,
     "end_time": "2022-08-29T03:10:24.465608",
     "exception": false,
     "start_time": "2022-08-29T03:10:24.457956",
     "status": "completed"
    },
    "tags": []
   },
   "source": [
    "### 4) Dive slightly deeper\n",
    "\n",
    "You'd like to take a closer look at rides from 2017.  Copy the query you used above in `rides_per_year_query` into the cell below for `rides_per_month_query`.  Then modify it in two ways:\n",
    "1. Use a **WHERE** clause to limit the query to data from 2017.\n",
    "2. Modify the query to extract the month rather than the year."
   ]
  },
  {
   "cell_type": "code",
   "execution_count": 10,
   "id": "d5dfc8f5",
   "metadata": {
    "execution": {
     "iopub.execute_input": "2022-08-29T03:10:24.484019Z",
     "iopub.status.busy": "2022-08-29T03:10:24.483567Z",
     "iopub.status.idle": "2022-08-29T03:10:25.481627Z",
     "shell.execute_reply": "2022-08-29T03:10:25.480009Z"
    },
    "papermill": {
     "duration": 1.010668,
     "end_time": "2022-08-29T03:10:25.484487",
     "exception": false,
     "start_time": "2022-08-29T03:10:24.473819",
     "status": "completed"
    },
    "tags": []
   },
   "outputs": [
    {
     "name": "stderr",
     "output_type": "stream",
     "text": [
      "/opt/conda/lib/python3.7/site-packages/google/cloud/bigquery/client.py:440: UserWarning: Cannot create BigQuery Storage client, the dependency google-cloud-bigquery-storage is not installed.\n",
      "  \"Cannot create BigQuery Storage client, the dependency \"\n"
     ]
    },
    {
     "name": "stdout",
     "output_type": "stream",
     "text": [
      "    month  num_trips\n",
      "0       1    1972071\n",
      "1       2    1909802\n",
      "2       3    2362105\n",
      "3       4    2194702\n",
      "4       5    2323386\n",
      "5       6    2324472\n",
      "6       7    2054299\n",
      "7       8    2079861\n",
      "8       9    1950631\n",
      "9      10    2141197\n",
      "10     11    1907997\n",
      "11     12    1767480\n"
     ]
    },
    {
     "data": {
      "application/javascript": [
       "parent.postMessage({\"jupyterEvent\": \"custom.exercise_interaction\", \"data\": {\"outcomeType\": 1, \"valueTowardsCompletion\": 0.16666666666666666, \"interactionType\": 1, \"questionType\": 2, \"questionId\": \"4_MonthDistrib\", \"learnToolsVersion\": \"0.3.4\", \"failureMessage\": \"\", \"exceptionClass\": \"\", \"trace\": \"\"}}, \"*\")"
      ],
      "text/plain": [
       "<IPython.core.display.Javascript object>"
      ]
     },
     "metadata": {},
     "output_type": "display_data"
    },
    {
     "data": {
      "text/markdown": [
       "<span style=\"color:#33cc33\">Correct</span>"
      ],
      "text/plain": [
       "Correct"
      ]
     },
     "metadata": {},
     "output_type": "display_data"
    }
   ],
   "source": [
    "# Your code goes here\n",
    "rides_per_month_query = \"\"\"\n",
    "                       WITH years AS \n",
    "                       (\n",
    "                           SELECT EXTRACT(YEAR FROM trip_start_timestamp) AS year,\n",
    "                                  EXTRACT(MONTH FROM trip_start_timestamp) AS month\n",
    "                           FROM `bigquery-public-data.chicago_taxi_trips.taxi_trips`\n",
    "                       )\n",
    "                       SELECT month, COUNT(1) AS num_trips\n",
    "                       FROM years\n",
    "                       WHERE year = 2017\n",
    "                       GROUP BY month\n",
    "                       ORDER BY month \n",
    "                       \"\"\" \n",
    "\n",
    "# Set up the query\n",
    "safe_config = bigquery.QueryJobConfig(maximum_bytes_billed=10**10)\n",
    "rides_per_month_query_job = client.query(rides_per_month_query, job_config=safe_config) # Your code goes here\n",
    "\n",
    "# API request - run the query, and return a pandas DataFrame\n",
    "rides_per_month_result = rides_per_month_query_job.to_dataframe() # Your code goes here\n",
    "\n",
    "# View results\n",
    "print(rides_per_month_result)\n",
    "\n",
    "# Check your answer\n",
    "q_4.check()"
   ]
  },
  {
   "cell_type": "markdown",
   "id": "542fcb4a",
   "metadata": {
    "papermill": {
     "duration": 0.007885,
     "end_time": "2022-08-29T03:10:25.500826",
     "exception": false,
     "start_time": "2022-08-29T03:10:25.492941",
     "status": "completed"
    },
    "tags": []
   },
   "source": [
    "For a hint or the solution, uncomment the appropriate line below."
   ]
  },
  {
   "cell_type": "code",
   "execution_count": 11,
   "id": "6cc5eb4b",
   "metadata": {
    "execution": {
     "iopub.execute_input": "2022-08-29T03:10:25.519916Z",
     "iopub.status.busy": "2022-08-29T03:10:25.518667Z",
     "iopub.status.idle": "2022-08-29T03:10:25.524445Z",
     "shell.execute_reply": "2022-08-29T03:10:25.523250Z"
    },
    "papermill": {
     "duration": 0.017702,
     "end_time": "2022-08-29T03:10:25.526683",
     "exception": false,
     "start_time": "2022-08-29T03:10:25.508981",
     "status": "completed"
    },
    "tags": []
   },
   "outputs": [],
   "source": [
    "#q_4.hint()\n",
    "#q_4.solution()"
   ]
  },
  {
   "cell_type": "markdown",
   "id": "e98981af",
   "metadata": {
    "papermill": {
     "duration": 0.008036,
     "end_time": "2022-08-29T03:10:25.543083",
     "exception": false,
     "start_time": "2022-08-29T03:10:25.535047",
     "status": "completed"
    },
    "tags": []
   },
   "source": [
    "### 5) Write the query\n",
    "\n",
    "It's time to step up the sophistication of your queries.  Write a query that shows, for each hour of the day in the dataset, the corresponding number of trips and average speed.\n",
    "\n",
    "Your results should have three columns:\n",
    "- `hour_of_day` - sort by this column, which holds the result of extracting the hour from `trip_start_timestamp`.\n",
    "- `num_trips` - the count of the total number of trips in each hour of the day (e.g. how many trips were started between 6AM and 7AM, independent of which day it occurred on).\n",
    "- `avg_mph` - the average speed, measured in miles per hour, for trips that started in that hour of the day.  Average speed in miles per hour is calculated as `3600 * SUM(trip_miles) / SUM(trip_seconds)`. (The value 3600 is used to convert from seconds to hours.)\n",
    "\n",
    "Restrict your query to data meeting the following criteria:\n",
    "- a `trip_start_timestamp` between **2017-01-01** and **2017-07-01**\n",
    "- `trip_seconds` > 0 and `trip_miles` > 0\n",
    "\n",
    "You will use a common table expression (CTE) to select just the relevant rides.  Because this dataset is very big, this CTE should select only the columns you'll need to create the final output (though you won't actually create those in the CTE -- instead you'll create those in the later **SELECT** statement below the CTE).\n",
    "\n",
    "This is a much harder query than anything you've written so far.  Good luck!"
   ]
  },
  {
   "cell_type": "code",
   "execution_count": 12,
   "id": "2c9c9bfe",
   "metadata": {
    "execution": {
     "iopub.execute_input": "2022-08-29T03:10:25.562239Z",
     "iopub.status.busy": "2022-08-29T03:10:25.560965Z",
     "iopub.status.idle": "2022-08-29T03:10:26.550644Z",
     "shell.execute_reply": "2022-08-29T03:10:26.549276Z"
    },
    "papermill": {
     "duration": 1.001816,
     "end_time": "2022-08-29T03:10:26.553179",
     "exception": false,
     "start_time": "2022-08-29T03:10:25.551363",
     "status": "completed"
    },
    "tags": []
   },
   "outputs": [
    {
     "name": "stderr",
     "output_type": "stream",
     "text": [
      "/opt/conda/lib/python3.7/site-packages/google/cloud/bigquery/client.py:440: UserWarning: Cannot create BigQuery Storage client, the dependency google-cloud-bigquery-storage is not installed.\n",
      "  \"Cannot create BigQuery Storage client, the dependency \"\n"
     ]
    },
    {
     "name": "stdout",
     "output_type": "stream",
     "text": [
      "    hour_of_day  num_trips    avg_mph\n",
      "0             0     319339  20.230524\n",
      "1             1     266529  18.937621\n",
      "2             2     210147  18.777070\n",
      "3             3     159668  20.158048\n",
      "4             4     122183  26.736014\n",
      "5             5     119312  30.769172\n",
      "6             6     182738  24.588313\n",
      "7             7     358406  17.735967\n",
      "8             8     541775  15.079892\n",
      "9             9     565548  16.543882\n",
      "10           10     525120  18.539614\n",
      "11           11     594603  18.928379\n",
      "12           12     622324  17.838745\n",
      "13           13     630181  17.671089\n",
      "14           14     622465  16.974239\n",
      "15           15     640430  15.688418\n",
      "16           16     701435  14.283888\n",
      "17           17     756627  12.462955\n",
      "18           18     768251  13.646810\n",
      "19           19     701064  16.642882\n",
      "20           20     598614  19.536777\n",
      "21           21     552726  20.433874\n",
      "22           22     501095  19.531374\n",
      "23           23     399587  19.877046\n"
     ]
    },
    {
     "data": {
      "application/javascript": [
       "parent.postMessage({\"jupyterEvent\": \"custom.exercise_interaction\", \"data\": {\"outcomeType\": 1, \"valueTowardsCompletion\": 0.16666666666666666, \"interactionType\": 1, \"questionType\": 2, \"questionId\": \"5_TheLongQuery\", \"learnToolsVersion\": \"0.3.4\", \"failureMessage\": \"\", \"exceptionClass\": \"\", \"trace\": \"\"}}, \"*\")"
      ],
      "text/plain": [
       "<IPython.core.display.Javascript object>"
      ]
     },
     "metadata": {},
     "output_type": "display_data"
    },
    {
     "data": {
      "text/markdown": [
       "<span style=\"color:#33cc33\">Correct</span>"
      ],
      "text/plain": [
       "Correct"
      ]
     },
     "metadata": {},
     "output_type": "display_data"
    }
   ],
   "source": [
    "# Your code goes here\n",
    "speeds_query = \"\"\"\n",
    "               WITH RelevantRides AS\n",
    "               (\n",
    "                   SELECT EXTRACT(HOUR FROM trip_start_timestamp) AS hour_of_day,\n",
    "                          trip_miles,\n",
    "                          trip_seconds\n",
    "                   FROM `bigquery-public-data.chicago_taxi_trips.taxi_trips`\n",
    "                   WHERE trip_start_timestamp > '2017-01-01' AND\n",
    "                         trip_start_timestamp < '2017-07-01' AND\n",
    "                         trip_seconds > 0 AND\n",
    "                         trip_miles > 0\n",
    "               )\n",
    "               SELECT hour_of_day, COUNT(1) AS num_trips,\n",
    "                      (3600 * SUM(trip_miles) / SUM(trip_seconds)) AS avg_mph \n",
    "               FROM RelevantRides\n",
    "               GROUP BY hour_of_day\n",
    "               ORDER BY hour_of_day\n",
    "               \"\"\"\n",
    "\n",
    "# Set up the query\n",
    "safe_config = bigquery.QueryJobConfig(maximum_bytes_billed=10**10)\n",
    "speeds_query_job = client.query(speeds_query, job_config=safe_config) # Your code here\n",
    "\n",
    "# API request - run the query, and return a pandas DataFrame\n",
    "speeds_result = speeds_query_job.to_dataframe() # Your code here\n",
    "\n",
    "# View results\n",
    "print(speeds_result)\n",
    "\n",
    "# Check your answer\n",
    "q_5.check()"
   ]
  },
  {
   "cell_type": "markdown",
   "id": "43d69381",
   "metadata": {
    "papermill": {
     "duration": 0.008469,
     "end_time": "2022-08-29T03:10:26.570505",
     "exception": false,
     "start_time": "2022-08-29T03:10:26.562036",
     "status": "completed"
    },
    "tags": []
   },
   "source": [
    "For the solution, uncomment the appropriate line below."
   ]
  },
  {
   "cell_type": "code",
   "execution_count": 13,
   "id": "a4d3f9e3",
   "metadata": {
    "execution": {
     "iopub.execute_input": "2022-08-29T03:10:26.590722Z",
     "iopub.status.busy": "2022-08-29T03:10:26.589491Z",
     "iopub.status.idle": "2022-08-29T03:10:26.595634Z",
     "shell.execute_reply": "2022-08-29T03:10:26.594419Z"
    },
    "papermill": {
     "duration": 0.019241,
     "end_time": "2022-08-29T03:10:26.598464",
     "exception": false,
     "start_time": "2022-08-29T03:10:26.579223",
     "status": "completed"
    },
    "tags": []
   },
   "outputs": [],
   "source": [
    "#q_5.solution()"
   ]
  },
  {
   "cell_type": "markdown",
   "id": "0b039852",
   "metadata": {
    "papermill": {
     "duration": 0.008109,
     "end_time": "2022-08-29T03:10:26.615405",
     "exception": false,
     "start_time": "2022-08-29T03:10:26.607296",
     "status": "completed"
    },
    "tags": []
   },
   "source": [
    "That's a hard query. If you made good progress towards the solution, congratulations!"
   ]
  },
  {
   "cell_type": "markdown",
   "id": "1d87d84d",
   "metadata": {
    "papermill": {
     "duration": 0.008018,
     "end_time": "2022-08-29T03:10:26.631889",
     "exception": false,
     "start_time": "2022-08-29T03:10:26.623871",
     "status": "completed"
    },
    "tags": []
   },
   "source": [
    "# Keep going\n",
    "\n",
    "You can write very complex queries now with a single data source. But nothing expands the horizons of SQL as much as the ability to combine or **JOIN** tables.\n",
    "\n",
    "**[Click here](https://www.kaggle.com/dansbecker/joining-data)** to start the last lesson in the Intro to SQL micro-course."
   ]
  },
  {
   "cell_type": "markdown",
   "id": "4f8a9f9d",
   "metadata": {
    "papermill": {
     "duration": 0.008164,
     "end_time": "2022-08-29T03:10:26.648677",
     "exception": false,
     "start_time": "2022-08-29T03:10:26.640513",
     "status": "completed"
    },
    "tags": []
   },
   "source": [
    "---\n",
    "\n",
    "\n",
    "\n",
    "\n",
    "*Have questions or comments? Visit the [course discussion forum](https://www.kaggle.com/learn/intro-to-sql/discussion) to chat with other learners.*"
   ]
  }
 ],
 "metadata": {
  "kernelspec": {
   "display_name": "Python 3",
   "language": "python",
   "name": "python3"
  },
  "language_info": {
   "codemirror_mode": {
    "name": "ipython",
    "version": 3
   },
   "file_extension": ".py",
   "mimetype": "text/x-python",
   "name": "python",
   "nbconvert_exporter": "python",
   "pygments_lexer": "ipython3",
   "version": "3.7.12"
  },
  "papermill": {
   "default_parameters": {},
   "duration": 18.729243,
   "end_time": "2022-08-29T03:10:27.278575",
   "environment_variables": {},
   "exception": null,
   "input_path": "__notebook__.ipynb",
   "output_path": "__notebook__.ipynb",
   "parameters": {},
   "start_time": "2022-08-29T03:10:08.549332",
   "version": "2.3.4"
  }
 },
 "nbformat": 4,
 "nbformat_minor": 5
}
