{
 "cells": [
  {
   "cell_type": "markdown",
   "id": "f3aa03f7",
   "metadata": {
    "papermill": {
     "duration": 0.007975,
     "end_time": "2022-08-27T12:50:41.672104",
     "exception": false,
     "start_time": "2022-08-27T12:50:41.664129",
     "status": "completed"
    },
    "tags": []
   },
   "source": [
    "**This notebook is an exercise in the [SQL](https://www.kaggle.com/learn/intro-to-sql) course.  You can reference the tutorial at [this link](https://www.kaggle.com/dansbecker/getting-started-with-sql-and-bigquery).**\n",
    "\n",
    "---\n"
   ]
  },
  {
   "cell_type": "markdown",
   "id": "16d6b2f2",
   "metadata": {
    "papermill": {
     "duration": 0.006004,
     "end_time": "2022-08-27T12:50:41.685116",
     "exception": false,
     "start_time": "2022-08-27T12:50:41.679112",
     "status": "completed"
    },
    "tags": []
   },
   "source": [
    "# Introduction\n",
    "\n",
    "The first test of your new data exploration skills uses data describing crime in the city of Chicago.\n",
    "\n",
    "Before you get started, run the following cell. It sets up the automated feedback system to review your answers."
   ]
  },
  {
   "cell_type": "code",
   "execution_count": 1,
   "id": "09bb0edd",
   "metadata": {
    "execution": {
     "iopub.execute_input": "2022-08-27T12:50:41.700640Z",
     "iopub.status.busy": "2022-08-27T12:50:41.700080Z",
     "iopub.status.idle": "2022-08-27T12:50:42.552556Z",
     "shell.execute_reply": "2022-08-27T12:50:42.551549Z"
    },
    "papermill": {
     "duration": 0.864893,
     "end_time": "2022-08-27T12:50:42.556228",
     "exception": false,
     "start_time": "2022-08-27T12:50:41.691335",
     "status": "completed"
    },
    "tags": []
   },
   "outputs": [
    {
     "name": "stdout",
     "output_type": "stream",
     "text": [
      "Using Kaggle's public dataset BigQuery integration.\n",
      "Setup Complete\n"
     ]
    }
   ],
   "source": [
    "# Set up feedack system\n",
    "from learntools.core import binder\n",
    "binder.bind(globals())\n",
    "from learntools.sql.ex1 import *\n",
    "print(\"Setup Complete\")"
   ]
  },
  {
   "cell_type": "markdown",
   "id": "e35d4435",
   "metadata": {
    "papermill": {
     "duration": 0.00619,
     "end_time": "2022-08-27T12:50:42.569463",
     "exception": false,
     "start_time": "2022-08-27T12:50:42.563273",
     "status": "completed"
    },
    "tags": []
   },
   "source": [
    "Use the next code cell to fetch the dataset."
   ]
  },
  {
   "cell_type": "code",
   "execution_count": 2,
   "id": "629594b8",
   "metadata": {
    "execution": {
     "iopub.execute_input": "2022-08-27T12:50:42.585061Z",
     "iopub.status.busy": "2022-08-27T12:50:42.584371Z",
     "iopub.status.idle": "2022-08-27T12:50:42.872518Z",
     "shell.execute_reply": "2022-08-27T12:50:42.871478Z"
    },
    "papermill": {
     "duration": 0.299632,
     "end_time": "2022-08-27T12:50:42.875239",
     "exception": false,
     "start_time": "2022-08-27T12:50:42.575607",
     "status": "completed"
    },
    "tags": []
   },
   "outputs": [
    {
     "name": "stdout",
     "output_type": "stream",
     "text": [
      "Using Kaggle's public dataset BigQuery integration.\n"
     ]
    }
   ],
   "source": [
    "from google.cloud import bigquery\n",
    "\n",
    "# Create a \"Client\" object\n",
    "client = bigquery.Client()\n",
    "\n",
    "# Construct a reference to the \"chicago_crime\" dataset\n",
    "dataset_ref = client.dataset(\"chicago_crime\", project=\"bigquery-public-data\")\n",
    "\n",
    "# API request - fetch the dataset\n",
    "dataset = client.get_dataset(dataset_ref)"
   ]
  },
  {
   "cell_type": "markdown",
   "id": "599e202c",
   "metadata": {
    "papermill": {
     "duration": 0.005886,
     "end_time": "2022-08-27T12:50:42.887694",
     "exception": false,
     "start_time": "2022-08-27T12:50:42.881808",
     "status": "completed"
    },
    "tags": []
   },
   "source": [
    "# Exercises\n",
    "\n",
    "### 1) Count tables in the dataset\n",
    "\n",
    "How many tables are in the Chicago Crime dataset?"
   ]
  },
  {
   "cell_type": "code",
   "execution_count": 3,
   "id": "2db6fdc1",
   "metadata": {
    "execution": {
     "iopub.execute_input": "2022-08-27T12:50:42.902765Z",
     "iopub.status.busy": "2022-08-27T12:50:42.902019Z",
     "iopub.status.idle": "2022-08-27T12:50:43.176376Z",
     "shell.execute_reply": "2022-08-27T12:50:43.174715Z"
    },
    "papermill": {
     "duration": 0.285491,
     "end_time": "2022-08-27T12:50:43.179674",
     "exception": false,
     "start_time": "2022-08-27T12:50:42.894183",
     "status": "completed"
    },
    "tags": []
   },
   "outputs": [
    {
     "name": "stdout",
     "output_type": "stream",
     "text": [
      "1\n"
     ]
    }
   ],
   "source": [
    "# Write the code you need here to figure out the answer\n",
    "tables = list(client.list_tables(dataset))\n",
    "print(len(tables))"
   ]
  },
  {
   "cell_type": "code",
   "execution_count": 4,
   "id": "6c049274",
   "metadata": {
    "execution": {
     "iopub.execute_input": "2022-08-27T12:50:43.194328Z",
     "iopub.status.busy": "2022-08-27T12:50:43.193880Z",
     "iopub.status.idle": "2022-08-27T12:50:43.206198Z",
     "shell.execute_reply": "2022-08-27T12:50:43.204816Z"
    },
    "papermill": {
     "duration": 0.02325,
     "end_time": "2022-08-27T12:50:43.209378",
     "exception": false,
     "start_time": "2022-08-27T12:50:43.186128",
     "status": "completed"
    },
    "tags": []
   },
   "outputs": [
    {
     "data": {
      "application/javascript": [
       "parent.postMessage({\"jupyterEvent\": \"custom.exercise_interaction\", \"data\": {\"outcomeType\": 1, \"valueTowardsCompletion\": 0.3333333333333333, \"interactionType\": 1, \"questionType\": 1, \"questionId\": \"1_CountTables\", \"learnToolsVersion\": \"0.3.4\", \"failureMessage\": \"\", \"exceptionClass\": \"\", \"trace\": \"\"}}, \"*\")"
      ],
      "text/plain": [
       "<IPython.core.display.Javascript object>"
      ]
     },
     "metadata": {},
     "output_type": "display_data"
    },
    {
     "data": {
      "text/markdown": [
       "<span style=\"color:#33cc33\">Correct</span>"
      ],
      "text/plain": [
       "Correct"
      ]
     },
     "metadata": {},
     "output_type": "display_data"
    }
   ],
   "source": [
    "num_tables = 1  # Store the answer as num_tables and then run this cell\n",
    "\n",
    "# Check your answer\n",
    "q_1.check()"
   ]
  },
  {
   "cell_type": "markdown",
   "id": "41222cc0",
   "metadata": {
    "papermill": {
     "duration": 0.00635,
     "end_time": "2022-08-27T12:50:43.222291",
     "exception": false,
     "start_time": "2022-08-27T12:50:43.215941",
     "status": "completed"
    },
    "tags": []
   },
   "source": [
    "For a hint or the solution, uncomment the appropriate line below."
   ]
  },
  {
   "cell_type": "code",
   "execution_count": 5,
   "id": "b8bbad01",
   "metadata": {
    "execution": {
     "iopub.execute_input": "2022-08-27T12:50:43.237705Z",
     "iopub.status.busy": "2022-08-27T12:50:43.237261Z",
     "iopub.status.idle": "2022-08-27T12:50:43.242018Z",
     "shell.execute_reply": "2022-08-27T12:50:43.240909Z"
    },
    "papermill": {
     "duration": 0.014954,
     "end_time": "2022-08-27T12:50:43.244332",
     "exception": false,
     "start_time": "2022-08-27T12:50:43.229378",
     "status": "completed"
    },
    "tags": []
   },
   "outputs": [],
   "source": [
    "#q_1.hint()\n",
    "#q_1.solution()"
   ]
  },
  {
   "cell_type": "markdown",
   "id": "6fcc3fac",
   "metadata": {
    "papermill": {
     "duration": 0.006934,
     "end_time": "2022-08-27T12:50:43.257834",
     "exception": false,
     "start_time": "2022-08-27T12:50:43.250900",
     "status": "completed"
    },
    "tags": []
   },
   "source": [
    "### 2) Explore the table schema\n",
    "\n",
    "How many columns in the `crime` table have `TIMESTAMP` data?"
   ]
  },
  {
   "cell_type": "code",
   "execution_count": 6,
   "id": "e8c39a83",
   "metadata": {
    "execution": {
     "iopub.execute_input": "2022-08-27T12:50:43.272989Z",
     "iopub.status.busy": "2022-08-27T12:50:43.271934Z",
     "iopub.status.idle": "2022-08-27T12:50:43.278762Z",
     "shell.execute_reply": "2022-08-27T12:50:43.277553Z"
    },
    "papermill": {
     "duration": 0.016917,
     "end_time": "2022-08-27T12:50:43.281255",
     "exception": false,
     "start_time": "2022-08-27T12:50:43.264338",
     "status": "completed"
    },
    "tags": []
   },
   "outputs": [
    {
     "name": "stdout",
     "output_type": "stream",
     "text": [
      "crime\n"
     ]
    }
   ],
   "source": [
    "print(tables[0].table_id)"
   ]
  },
  {
   "cell_type": "code",
   "execution_count": 7,
   "id": "40321496",
   "metadata": {
    "execution": {
     "iopub.execute_input": "2022-08-27T12:50:43.296498Z",
     "iopub.status.busy": "2022-08-27T12:50:43.295445Z",
     "iopub.status.idle": "2022-08-27T12:50:43.483818Z",
     "shell.execute_reply": "2022-08-27T12:50:43.482424Z"
    },
    "papermill": {
     "duration": 0.198882,
     "end_time": "2022-08-27T12:50:43.486614",
     "exception": false,
     "start_time": "2022-08-27T12:50:43.287732",
     "status": "completed"
    },
    "tags": []
   },
   "outputs": [
    {
     "data": {
      "text/plain": [
       "[SchemaField('unique_key', 'INTEGER', 'REQUIRED', None, (), None),\n",
       " SchemaField('case_number', 'STRING', 'NULLABLE', None, (), None),\n",
       " SchemaField('date', 'TIMESTAMP', 'NULLABLE', None, (), None),\n",
       " SchemaField('block', 'STRING', 'NULLABLE', None, (), None),\n",
       " SchemaField('iucr', 'STRING', 'NULLABLE', None, (), None),\n",
       " SchemaField('primary_type', 'STRING', 'NULLABLE', None, (), None),\n",
       " SchemaField('description', 'STRING', 'NULLABLE', None, (), None),\n",
       " SchemaField('location_description', 'STRING', 'NULLABLE', None, (), None),\n",
       " SchemaField('arrest', 'BOOLEAN', 'NULLABLE', None, (), None),\n",
       " SchemaField('domestic', 'BOOLEAN', 'NULLABLE', None, (), None),\n",
       " SchemaField('beat', 'INTEGER', 'NULLABLE', None, (), None),\n",
       " SchemaField('district', 'INTEGER', 'NULLABLE', None, (), None),\n",
       " SchemaField('ward', 'INTEGER', 'NULLABLE', None, (), None),\n",
       " SchemaField('community_area', 'INTEGER', 'NULLABLE', None, (), None),\n",
       " SchemaField('fbi_code', 'STRING', 'NULLABLE', None, (), None),\n",
       " SchemaField('x_coordinate', 'FLOAT', 'NULLABLE', None, (), None),\n",
       " SchemaField('y_coordinate', 'FLOAT', 'NULLABLE', None, (), None),\n",
       " SchemaField('year', 'INTEGER', 'NULLABLE', None, (), None),\n",
       " SchemaField('updated_on', 'TIMESTAMP', 'NULLABLE', None, (), None),\n",
       " SchemaField('latitude', 'FLOAT', 'NULLABLE', None, (), None),\n",
       " SchemaField('longitude', 'FLOAT', 'NULLABLE', None, (), None),\n",
       " SchemaField('location', 'STRING', 'NULLABLE', None, (), None)]"
      ]
     },
     "execution_count": 7,
     "metadata": {},
     "output_type": "execute_result"
    }
   ],
   "source": [
    "# Write the code to figure out the answer\n",
    "# Construct a reference to the \"crime\" table\n",
    "table_ref = dataset_ref.table(\"crime\")\n",
    "\n",
    "# API request - fetch the table\n",
    "table = client.get_table(table_ref)\n",
    "\n",
    "# Print information on all the columns in the \"crime\" table in the \"chicago_crime\" dataset\n",
    "table.schema"
   ]
  },
  {
   "cell_type": "code",
   "execution_count": 8,
   "id": "48d8913d",
   "metadata": {
    "execution": {
     "iopub.execute_input": "2022-08-27T12:50:43.503047Z",
     "iopub.status.busy": "2022-08-27T12:50:43.502208Z",
     "iopub.status.idle": "2022-08-27T12:50:43.512101Z",
     "shell.execute_reply": "2022-08-27T12:50:43.510988Z"
    },
    "papermill": {
     "duration": 0.020387,
     "end_time": "2022-08-27T12:50:43.514614",
     "exception": false,
     "start_time": "2022-08-27T12:50:43.494227",
     "status": "completed"
    },
    "tags": []
   },
   "outputs": [
    {
     "data": {
      "application/javascript": [
       "parent.postMessage({\"jupyterEvent\": \"custom.exercise_interaction\", \"data\": {\"outcomeType\": 1, \"valueTowardsCompletion\": 0.3333333333333333, \"interactionType\": 1, \"questionType\": 1, \"questionId\": \"2_CountTimestampFields\", \"learnToolsVersion\": \"0.3.4\", \"failureMessage\": \"\", \"exceptionClass\": \"\", \"trace\": \"\"}}, \"*\")"
      ],
      "text/plain": [
       "<IPython.core.display.Javascript object>"
      ]
     },
     "metadata": {},
     "output_type": "display_data"
    },
    {
     "data": {
      "text/markdown": [
       "<span style=\"color:#33cc33\">Correct</span>"
      ],
      "text/plain": [
       "Correct"
      ]
     },
     "metadata": {},
     "output_type": "display_data"
    }
   ],
   "source": [
    "num_timestamp_fields = 2 # Put your answer here\n",
    "\n",
    "# Check your answer\n",
    "q_2.check()"
   ]
  },
  {
   "cell_type": "markdown",
   "id": "578e926a",
   "metadata": {
    "papermill": {
     "duration": 0.006277,
     "end_time": "2022-08-27T12:50:43.527607",
     "exception": false,
     "start_time": "2022-08-27T12:50:43.521330",
     "status": "completed"
    },
    "tags": []
   },
   "source": [
    "For a hint or the solution, uncomment the appropriate line below."
   ]
  },
  {
   "cell_type": "code",
   "execution_count": 9,
   "id": "aa11df1e",
   "metadata": {
    "execution": {
     "iopub.execute_input": "2022-08-27T12:50:43.542817Z",
     "iopub.status.busy": "2022-08-27T12:50:43.542350Z",
     "iopub.status.idle": "2022-08-27T12:50:43.547015Z",
     "shell.execute_reply": "2022-08-27T12:50:43.546108Z"
    },
    "papermill": {
     "duration": 0.015086,
     "end_time": "2022-08-27T12:50:43.549284",
     "exception": false,
     "start_time": "2022-08-27T12:50:43.534198",
     "status": "completed"
    },
    "tags": []
   },
   "outputs": [],
   "source": [
    "#q_2.hint()\n",
    "#q_2.solution()"
   ]
  },
  {
   "cell_type": "markdown",
   "id": "e1855dc0",
   "metadata": {
    "papermill": {
     "duration": 0.006472,
     "end_time": "2022-08-27T12:50:43.563099",
     "exception": false,
     "start_time": "2022-08-27T12:50:43.556627",
     "status": "completed"
    },
    "tags": []
   },
   "source": [
    "### 3) Create a crime map\n",
    "\n",
    "If you wanted to create a map with a dot at the location of each crime, what are the names of the two fields you likely need to pull out of the `crime` table to plot the crimes on a map?"
   ]
  },
  {
   "cell_type": "code",
   "execution_count": 10,
   "id": "e84db291",
   "metadata": {
    "execution": {
     "iopub.execute_input": "2022-08-27T12:50:43.578508Z",
     "iopub.status.busy": "2022-08-27T12:50:43.578091Z",
     "iopub.status.idle": "2022-08-27T12:50:43.582762Z",
     "shell.execute_reply": "2022-08-27T12:50:43.581430Z"
    },
    "papermill": {
     "duration": 0.015382,
     "end_time": "2022-08-27T12:50:43.585320",
     "exception": false,
     "start_time": "2022-08-27T12:50:43.569938",
     "status": "completed"
    },
    "tags": []
   },
   "outputs": [],
   "source": [
    "# Write the code here to explore the data so you can find the answer\n"
   ]
  },
  {
   "cell_type": "code",
   "execution_count": 11,
   "id": "02e41f49",
   "metadata": {
    "execution": {
     "iopub.execute_input": "2022-08-27T12:50:43.601094Z",
     "iopub.status.busy": "2022-08-27T12:50:43.600632Z",
     "iopub.status.idle": "2022-08-27T12:50:43.609344Z",
     "shell.execute_reply": "2022-08-27T12:50:43.608368Z"
    },
    "papermill": {
     "duration": 0.019117,
     "end_time": "2022-08-27T12:50:43.611615",
     "exception": false,
     "start_time": "2022-08-27T12:50:43.592498",
     "status": "completed"
    },
    "tags": []
   },
   "outputs": [
    {
     "data": {
      "application/javascript": [
       "parent.postMessage({\"jupyterEvent\": \"custom.exercise_interaction\", \"data\": {\"outcomeType\": 1, \"valueTowardsCompletion\": 0.3333333333333333, \"interactionType\": 1, \"questionType\": 2, \"questionId\": \"3_IdentifyFieldsForPlotting\", \"learnToolsVersion\": \"0.3.4\", \"failureMessage\": \"\", \"exceptionClass\": \"\", \"trace\": \"\"}}, \"*\")"
      ],
      "text/plain": [
       "<IPython.core.display.Javascript object>"
      ]
     },
     "metadata": {},
     "output_type": "display_data"
    },
    {
     "data": {
      "text/markdown": [
       "<span style=\"color:#33cc33\">Correct</span>"
      ],
      "text/plain": [
       "Correct"
      ]
     },
     "metadata": {},
     "output_type": "display_data"
    }
   ],
   "source": [
    "fields_for_plotting = ['latitude', 'longitude'] # Put your answers here\n",
    "\n",
    "# Check your answer\n",
    "q_3.check()"
   ]
  },
  {
   "cell_type": "markdown",
   "id": "183b4ac9",
   "metadata": {
    "papermill": {
     "duration": 0.006584,
     "end_time": "2022-08-27T12:50:43.625215",
     "exception": false,
     "start_time": "2022-08-27T12:50:43.618631",
     "status": "completed"
    },
    "tags": []
   },
   "source": [
    "For a hint or the solution, uncomment the appropriate line below."
   ]
  },
  {
   "cell_type": "code",
   "execution_count": 12,
   "id": "39403ab0",
   "metadata": {
    "execution": {
     "iopub.execute_input": "2022-08-27T12:50:43.641206Z",
     "iopub.status.busy": "2022-08-27T12:50:43.640486Z",
     "iopub.status.idle": "2022-08-27T12:50:43.644617Z",
     "shell.execute_reply": "2022-08-27T12:50:43.643741Z"
    },
    "papermill": {
     "duration": 0.0146,
     "end_time": "2022-08-27T12:50:43.646781",
     "exception": false,
     "start_time": "2022-08-27T12:50:43.632181",
     "status": "completed"
    },
    "tags": []
   },
   "outputs": [],
   "source": [
    "#q_3.hint()\n",
    "#q_3.solution()"
   ]
  },
  {
   "cell_type": "markdown",
   "id": "550575f5",
   "metadata": {
    "papermill": {
     "duration": 0.006587,
     "end_time": "2022-08-27T12:50:43.660534",
     "exception": false,
     "start_time": "2022-08-27T12:50:43.653947",
     "status": "completed"
    },
    "tags": []
   },
   "source": [
    "Thinking about the question above, there are a few columns that appear to have geographic data. Look at a few values (with the `list_rows()` command) to see if you can determine their relationship.  Two columns will still be hard to interpret. But it should be obvious how the `location` column relates to `latitude` and `longitude`."
   ]
  },
  {
   "cell_type": "code",
   "execution_count": 13,
   "id": "ce958a1c",
   "metadata": {
    "execution": {
     "iopub.execute_input": "2022-08-27T12:50:43.676626Z",
     "iopub.status.busy": "2022-08-27T12:50:43.675945Z",
     "iopub.status.idle": "2022-08-27T12:50:44.307591Z",
     "shell.execute_reply": "2022-08-27T12:50:44.306624Z"
    },
    "papermill": {
     "duration": 0.642485,
     "end_time": "2022-08-27T12:50:44.310077",
     "exception": false,
     "start_time": "2022-08-27T12:50:43.667592",
     "status": "completed"
    },
    "tags": []
   },
   "outputs": [
    {
     "name": "stderr",
     "output_type": "stream",
     "text": [
      "/opt/conda/lib/python3.7/site-packages/ipykernel_launcher.py:2: UserWarning: Cannot use bqstorage_client if max_results is set, reverting to fetching data with the tabledata.list endpoint.\n",
      "  \n"
     ]
    },
    {
     "data": {
      "text/html": [
       "<div>\n",
       "<style scoped>\n",
       "    .dataframe tbody tr th:only-of-type {\n",
       "        vertical-align: middle;\n",
       "    }\n",
       "\n",
       "    .dataframe tbody tr th {\n",
       "        vertical-align: top;\n",
       "    }\n",
       "\n",
       "    .dataframe thead th {\n",
       "        text-align: right;\n",
       "    }\n",
       "</style>\n",
       "<table border=\"1\" class=\"dataframe\">\n",
       "  <thead>\n",
       "    <tr style=\"text-align: right;\">\n",
       "      <th></th>\n",
       "      <th>unique_key</th>\n",
       "      <th>case_number</th>\n",
       "      <th>date</th>\n",
       "      <th>block</th>\n",
       "      <th>iucr</th>\n",
       "      <th>primary_type</th>\n",
       "      <th>description</th>\n",
       "      <th>location_description</th>\n",
       "      <th>arrest</th>\n",
       "      <th>domestic</th>\n",
       "      <th>...</th>\n",
       "      <th>ward</th>\n",
       "      <th>community_area</th>\n",
       "      <th>fbi_code</th>\n",
       "      <th>x_coordinate</th>\n",
       "      <th>y_coordinate</th>\n",
       "      <th>year</th>\n",
       "      <th>updated_on</th>\n",
       "      <th>latitude</th>\n",
       "      <th>longitude</th>\n",
       "      <th>location</th>\n",
       "    </tr>\n",
       "  </thead>\n",
       "  <tbody>\n",
       "    <tr>\n",
       "      <th>0</th>\n",
       "      <td>21682</td>\n",
       "      <td>HX539782</td>\n",
       "      <td>2014-12-12 04:57:00+00:00</td>\n",
       "      <td>104XX S STATE ST</td>\n",
       "      <td>0110</td>\n",
       "      <td>HOMICIDE</td>\n",
       "      <td>FIRST DEGREE MURDER</td>\n",
       "      <td>STREET</td>\n",
       "      <td>False</td>\n",
       "      <td>False</td>\n",
       "      <td>...</td>\n",
       "      <td>34</td>\n",
       "      <td>49</td>\n",
       "      <td>01A</td>\n",
       "      <td>1178101.0</td>\n",
       "      <td>1835578.0</td>\n",
       "      <td>2014</td>\n",
       "      <td>2019-03-19 04:11:22+00:00</td>\n",
       "      <td>41.704137</td>\n",
       "      <td>-87.623436</td>\n",
       "      <td>(41.704136655, -87.623435884)</td>\n",
       "    </tr>\n",
       "    <tr>\n",
       "      <th>1</th>\n",
       "      <td>1877</td>\n",
       "      <td>HH769051</td>\n",
       "      <td>2002-11-18 02:50:00+00:00</td>\n",
       "      <td>104XX S PRAIRIE AVE</td>\n",
       "      <td>0110</td>\n",
       "      <td>HOMICIDE</td>\n",
       "      <td>FIRST DEGREE MURDER</td>\n",
       "      <td>HOUSE</td>\n",
       "      <td>True</td>\n",
       "      <td>True</td>\n",
       "      <td>...</td>\n",
       "      <td>9</td>\n",
       "      <td>49</td>\n",
       "      <td>01A</td>\n",
       "      <td>1179761.0</td>\n",
       "      <td>1835736.0</td>\n",
       "      <td>2002</td>\n",
       "      <td>2019-03-18 04:08:09+00:00</td>\n",
       "      <td>41.704533</td>\n",
       "      <td>-87.617352</td>\n",
       "      <td>(41.704532517, -87.61735248)</td>\n",
       "    </tr>\n",
       "    <tr>\n",
       "      <th>2</th>\n",
       "      <td>22150</td>\n",
       "      <td>HY466381</td>\n",
       "      <td>2015-10-18 02:07:00+00:00</td>\n",
       "      <td>106XX S PRAIRIE AVE</td>\n",
       "      <td>0110</td>\n",
       "      <td>HOMICIDE</td>\n",
       "      <td>FIRST DEGREE MURDER</td>\n",
       "      <td>AUTO</td>\n",
       "      <td>False</td>\n",
       "      <td>False</td>\n",
       "      <td>...</td>\n",
       "      <td>9</td>\n",
       "      <td>49</td>\n",
       "      <td>01A</td>\n",
       "      <td>1179795.0</td>\n",
       "      <td>1834569.0</td>\n",
       "      <td>2015</td>\n",
       "      <td>2019-03-18 04:08:09+00:00</td>\n",
       "      <td>41.701329</td>\n",
       "      <td>-87.617264</td>\n",
       "      <td>(41.701329334, -87.61726351)</td>\n",
       "    </tr>\n",
       "    <tr>\n",
       "      <th>3</th>\n",
       "      <td>24497</td>\n",
       "      <td>JC223880</td>\n",
       "      <td>2019-04-16 09:02:00+00:00</td>\n",
       "      <td>002XX W 106TH ST</td>\n",
       "      <td>0110</td>\n",
       "      <td>HOMICIDE</td>\n",
       "      <td>FIRST DEGREE MURDER</td>\n",
       "      <td>YARD</td>\n",
       "      <td>False</td>\n",
       "      <td>False</td>\n",
       "      <td>...</td>\n",
       "      <td>34</td>\n",
       "      <td>49</td>\n",
       "      <td>01A</td>\n",
       "      <td>1176431.0</td>\n",
       "      <td>1834647.0</td>\n",
       "      <td>2019</td>\n",
       "      <td>2020-06-20 03:48:45+00:00</td>\n",
       "      <td>41.701619</td>\n",
       "      <td>-87.629579</td>\n",
       "      <td>(41.701619471, -87.629578967)</td>\n",
       "    </tr>\n",
       "    <tr>\n",
       "      <th>4</th>\n",
       "      <td>4210</td>\n",
       "      <td>HN539215</td>\n",
       "      <td>2007-08-20 02:40:00+00:00</td>\n",
       "      <td>104XX S CORLISS AVE</td>\n",
       "      <td>0110</td>\n",
       "      <td>HOMICIDE</td>\n",
       "      <td>FIRST DEGREE MURDER</td>\n",
       "      <td>STREET</td>\n",
       "      <td>False</td>\n",
       "      <td>False</td>\n",
       "      <td>...</td>\n",
       "      <td>9</td>\n",
       "      <td>50</td>\n",
       "      <td>01A</td>\n",
       "      <td>1183419.0</td>\n",
       "      <td>1836038.0</td>\n",
       "      <td>2007</td>\n",
       "      <td>2019-03-18 04:08:09+00:00</td>\n",
       "      <td>41.705277</td>\n",
       "      <td>-87.603948</td>\n",
       "      <td>(41.705277006, -87.603948187)</td>\n",
       "    </tr>\n",
       "  </tbody>\n",
       "</table>\n",
       "<p>5 rows × 22 columns</p>\n",
       "</div>"
      ],
      "text/plain": [
       "   unique_key case_number                      date                block  \\\n",
       "0       21682    HX539782 2014-12-12 04:57:00+00:00     104XX S STATE ST   \n",
       "1        1877    HH769051 2002-11-18 02:50:00+00:00  104XX S PRAIRIE AVE   \n",
       "2       22150    HY466381 2015-10-18 02:07:00+00:00  106XX S PRAIRIE AVE   \n",
       "3       24497    JC223880 2019-04-16 09:02:00+00:00     002XX W 106TH ST   \n",
       "4        4210    HN539215 2007-08-20 02:40:00+00:00  104XX S CORLISS AVE   \n",
       "\n",
       "   iucr primary_type          description location_description  arrest  \\\n",
       "0  0110     HOMICIDE  FIRST DEGREE MURDER               STREET   False   \n",
       "1  0110     HOMICIDE  FIRST DEGREE MURDER                HOUSE    True   \n",
       "2  0110     HOMICIDE  FIRST DEGREE MURDER                 AUTO   False   \n",
       "3  0110     HOMICIDE  FIRST DEGREE MURDER                 YARD   False   \n",
       "4  0110     HOMICIDE  FIRST DEGREE MURDER               STREET   False   \n",
       "\n",
       "   domestic  ...  ward  community_area  fbi_code  x_coordinate y_coordinate  \\\n",
       "0     False  ...    34              49       01A     1178101.0    1835578.0   \n",
       "1      True  ...     9              49       01A     1179761.0    1835736.0   \n",
       "2     False  ...     9              49       01A     1179795.0    1834569.0   \n",
       "3     False  ...    34              49       01A     1176431.0    1834647.0   \n",
       "4     False  ...     9              50       01A     1183419.0    1836038.0   \n",
       "\n",
       "   year                updated_on   latitude  longitude  \\\n",
       "0  2014 2019-03-19 04:11:22+00:00  41.704137 -87.623436   \n",
       "1  2002 2019-03-18 04:08:09+00:00  41.704533 -87.617352   \n",
       "2  2015 2019-03-18 04:08:09+00:00  41.701329 -87.617264   \n",
       "3  2019 2020-06-20 03:48:45+00:00  41.701619 -87.629579   \n",
       "4  2007 2019-03-18 04:08:09+00:00  41.705277 -87.603948   \n",
       "\n",
       "                        location  \n",
       "0  (41.704136655, -87.623435884)  \n",
       "1   (41.704532517, -87.61735248)  \n",
       "2   (41.701329334, -87.61726351)  \n",
       "3  (41.701619471, -87.629578967)  \n",
       "4  (41.705277006, -87.603948187)  \n",
       "\n",
       "[5 rows x 22 columns]"
      ]
     },
     "execution_count": 13,
     "metadata": {},
     "output_type": "execute_result"
    }
   ],
   "source": [
    "# Scratch space for your code\n",
    "client.list_rows(table, max_results=5).to_dataframe()"
   ]
  },
  {
   "cell_type": "markdown",
   "id": "7d640095",
   "metadata": {
    "papermill": {
     "duration": 0.007119,
     "end_time": "2022-08-27T12:50:44.324848",
     "exception": false,
     "start_time": "2022-08-27T12:50:44.317729",
     "status": "completed"
    },
    "tags": []
   },
   "source": [
    "# Keep going\n",
    "\n",
    "You've looked at the schema, but you haven't yet done anything exciting with the data itself. Things get more interesting when you get to the data, so keep going to **[write your first SQL query](https://www.kaggle.com/dansbecker/select-from-where).**"
   ]
  },
  {
   "cell_type": "markdown",
   "id": "d78aba1f",
   "metadata": {
    "papermill": {
     "duration": 0.007014,
     "end_time": "2022-08-27T12:50:44.339425",
     "exception": false,
     "start_time": "2022-08-27T12:50:44.332411",
     "status": "completed"
    },
    "tags": []
   },
   "source": [
    "---\n",
    "\n",
    "\n",
    "\n",
    "\n",
    "*Have questions or comments? Visit the [course discussion forum](https://www.kaggle.com/learn/intro-to-sql/discussion) to chat with other learners.*"
   ]
  }
 ],
 "metadata": {
  "kernelspec": {
   "display_name": "Python 3",
   "language": "python",
   "name": "python3"
  },
  "language_info": {
   "codemirror_mode": {
    "name": "ipython",
    "version": 3
   },
   "file_extension": ".py",
   "mimetype": "text/x-python",
   "name": "python",
   "nbconvert_exporter": "python",
   "pygments_lexer": "ipython3",
   "version": "3.7.12"
  },
  "papermill": {
   "default_parameters": {},
   "duration": 13.309027,
   "end_time": "2022-08-27T12:50:45.071813",
   "environment_variables": {},
   "exception": null,
   "input_path": "__notebook__.ipynb",
   "output_path": "__notebook__.ipynb",
   "parameters": {},
   "start_time": "2022-08-27T12:50:31.762786",
   "version": "2.3.4"
  }
 },
 "nbformat": 4,
 "nbformat_minor": 5
}
