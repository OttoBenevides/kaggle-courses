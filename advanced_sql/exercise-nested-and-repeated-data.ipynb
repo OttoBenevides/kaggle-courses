{
 "cells": [
  {
   "cell_type": "markdown",
   "id": "518fc4a1",
   "metadata": {
    "papermill": {
     "duration": 0.009323,
     "end_time": "2022-08-29T17:16:01.378451",
     "exception": false,
     "start_time": "2022-08-29T17:16:01.369128",
     "status": "completed"
    },
    "tags": []
   },
   "source": [
    "**This notebook is an exercise in the [Advanced SQL](https://www.kaggle.com/learn/advanced-sql) course.  You can reference the tutorial at [this link](https://www.kaggle.com/alexisbcook/nested-and-repeated-data).**\n",
    "\n",
    "---\n"
   ]
  },
  {
   "cell_type": "markdown",
   "id": "eb4b9b1f",
   "metadata": {
    "papermill": {
     "duration": 0.008016,
     "end_time": "2022-08-29T17:16:01.394040",
     "exception": false,
     "start_time": "2022-08-29T17:16:01.386024",
     "status": "completed"
    },
    "tags": []
   },
   "source": [
    "# Introduction\n",
    "\n",
    "Now that you know how to query nested and repeated data, you're ready to draw interesting insights from the [GitHub Repos](https://www.kaggle.com/github/github-repos) dataset.  \n",
    "\n",
    "Before you get started, run the following cell to set everything up."
   ]
  },
  {
   "cell_type": "code",
   "execution_count": 1,
   "id": "d4c14c03",
   "metadata": {
    "execution": {
     "iopub.execute_input": "2022-08-29T17:16:01.408838Z",
     "iopub.status.busy": "2022-08-29T17:16:01.407400Z",
     "iopub.status.idle": "2022-08-29T17:16:05.154179Z",
     "shell.execute_reply": "2022-08-29T17:16:05.152480Z"
    },
    "papermill": {
     "duration": 3.75762,
     "end_time": "2022-08-29T17:16:05.157733",
     "exception": false,
     "start_time": "2022-08-29T17:16:01.400113",
     "status": "completed"
    },
    "tags": []
   },
   "outputs": [
    {
     "name": "stdout",
     "output_type": "stream",
     "text": [
      "Using Kaggle's public dataset BigQuery integration.\n"
     ]
    },
    {
     "name": "stderr",
     "output_type": "stream",
     "text": [
      "/opt/conda/lib/python3.7/site-packages/google/cloud/bigquery/client.py:440: UserWarning: Cannot create BigQuery Storage client, the dependency google-cloud-bigquery-storage is not installed.\n",
      "  \"Cannot create BigQuery Storage client, the dependency \"\n"
     ]
    },
    {
     "name": "stdout",
     "output_type": "stream",
     "text": [
      "Setup Complete\n"
     ]
    }
   ],
   "source": [
    "# Set up feedback system\n",
    "from learntools.core import binder\n",
    "binder.bind(globals())\n",
    "from learntools.sql_advanced.ex3 import *\n",
    "print(\"Setup Complete\")"
   ]
  },
  {
   "cell_type": "markdown",
   "id": "54f1c09c",
   "metadata": {
    "papermill": {
     "duration": 0.005841,
     "end_time": "2022-08-29T17:16:05.170116",
     "exception": false,
     "start_time": "2022-08-29T17:16:05.164275",
     "status": "completed"
    },
    "tags": []
   },
   "source": [
    "# Exercises\n",
    "\n",
    "### 1) Who had the most commits in 2016?\n",
    "\n",
    "GitHub is the most popular place to collaborate on software projects. A GitHub **repository** (or repo) is a collection of files associated with a specific project, and a GitHub **commit** is a change that a user has made to a repository.  We refer to the user as a **committer**.\n",
    "\n",
    "The `sample_commits` table contains a small sample of GitHub commits, where each row corresponds to different commit.  The code cell below fetches the table and shows the first five rows of this table."
   ]
  },
  {
   "cell_type": "code",
   "execution_count": 2,
   "id": "f7bd50fd",
   "metadata": {
    "execution": {
     "iopub.execute_input": "2022-08-29T17:16:05.185437Z",
     "iopub.status.busy": "2022-08-29T17:16:05.184249Z",
     "iopub.status.idle": "2022-08-29T17:16:06.306696Z",
     "shell.execute_reply": "2022-08-29T17:16:06.305460Z"
    },
    "papermill": {
     "duration": 1.132973,
     "end_time": "2022-08-29T17:16:06.309241",
     "exception": false,
     "start_time": "2022-08-29T17:16:05.176268",
     "status": "completed"
    },
    "tags": []
   },
   "outputs": [
    {
     "name": "stdout",
     "output_type": "stream",
     "text": [
      "Using Kaggle's public dataset BigQuery integration.\n"
     ]
    },
    {
     "name": "stderr",
     "output_type": "stream",
     "text": [
      "/opt/conda/lib/python3.7/site-packages/ipykernel_launcher.py:19: UserWarning: Cannot use bqstorage_client if max_results is set, reverting to fetching data with the tabledata.list endpoint.\n"
     ]
    },
    {
     "data": {
      "text/html": [
       "<div>\n",
       "<style scoped>\n",
       "    .dataframe tbody tr th:only-of-type {\n",
       "        vertical-align: middle;\n",
       "    }\n",
       "\n",
       "    .dataframe tbody tr th {\n",
       "        vertical-align: top;\n",
       "    }\n",
       "\n",
       "    .dataframe thead th {\n",
       "        text-align: right;\n",
       "    }\n",
       "</style>\n",
       "<table border=\"1\" class=\"dataframe\">\n",
       "  <thead>\n",
       "    <tr style=\"text-align: right;\">\n",
       "      <th></th>\n",
       "      <th>commit</th>\n",
       "      <th>tree</th>\n",
       "      <th>parent</th>\n",
       "      <th>author</th>\n",
       "      <th>committer</th>\n",
       "      <th>subject</th>\n",
       "      <th>message</th>\n",
       "      <th>trailer</th>\n",
       "      <th>difference</th>\n",
       "      <th>difference_truncated</th>\n",
       "      <th>repo_name</th>\n",
       "      <th>encoding</th>\n",
       "    </tr>\n",
       "  </thead>\n",
       "  <tbody>\n",
       "    <tr>\n",
       "      <th>0</th>\n",
       "      <td>3eca86e75ec7a7d4b9a9c8091b11676f7bd2a39f</td>\n",
       "      <td>8e1b4380409a85a922ee0d3f622b5dd4d16bcfad</td>\n",
       "      <td>[104a0c02e8b1936c049e18a6d4e4ab040fb61213]</td>\n",
       "      <td>{'name': 'Mark Rutland', 'email': '1db9dd262be...</td>\n",
       "      <td>{'name': 'Catalin Marinas', 'email': '15ce75b2...</td>\n",
       "      <td>arm64: Remove fixmap include fragility</td>\n",
       "      <td>arm64: Remove fixmap include fragility\\n\\nThe ...</td>\n",
       "      <td>[{'key': 'Signed-off-by', 'value': 'Mark Rutla...</td>\n",
       "      <td>[{'old_mode': 33188.0, 'new_mode': 33188.0, 'o...</td>\n",
       "      <td>None</td>\n",
       "      <td>torvalds/linux</td>\n",
       "      <td>None</td>\n",
       "    </tr>\n",
       "    <tr>\n",
       "      <th>1</th>\n",
       "      <td>7158627686f02319c50c8d9d78f75d4c8d126ff2</td>\n",
       "      <td>3b4d781bd966f07cad1b67b137f0ff8b89430e9a</td>\n",
       "      <td>[66aa8d6a145b6a66566b4fce219cc56c3d0e01c3]</td>\n",
       "      <td>{'name': 'Will Deacon', 'email': 'b913f13ef92a...</td>\n",
       "      <td>{'name': 'Catalin Marinas', 'email': '15ce75b2...</td>\n",
       "      <td>arm64: percpu: implement optimised pcpu access...</td>\n",
       "      <td>arm64: percpu: implement optimised pcpu access...</td>\n",
       "      <td>[{'key': 'Signed-off-by', 'value': 'Will Deaco...</td>\n",
       "      <td>[{'old_mode': 33188.0, 'new_mode': 33188.0, 'o...</td>\n",
       "      <td>None</td>\n",
       "      <td>torvalds/linux</td>\n",
       "      <td>None</td>\n",
       "    </tr>\n",
       "    <tr>\n",
       "      <th>2</th>\n",
       "      <td>9732cafd9dc0206479be919baf0067239f0a63ca</td>\n",
       "      <td>c8878035ac9cb6dce592957f12dc1723a583989d</td>\n",
       "      <td>[f3c003f72dfb2497056bcbb864885837a1968ed5]</td>\n",
       "      <td>{'name': 'Jiang Liu', 'email': 'c745fa7b96fe79...</td>\n",
       "      <td>{'name': 'Catalin Marinas', 'email': '15ce75b2...</td>\n",
       "      <td>arm64, jump label: optimize jump label impleme...</td>\n",
       "      <td>arm64, jump label: optimize jump label impleme...</td>\n",
       "      <td>[{'key': 'Reviewed-by', 'value': 'Will Deacon ...</td>\n",
       "      <td>[{'old_mode': 33188.0, 'new_mode': 33188.0, 'o...</td>\n",
       "      <td>None</td>\n",
       "      <td>torvalds/linux</td>\n",
       "      <td>None</td>\n",
       "    </tr>\n",
       "    <tr>\n",
       "      <th>3</th>\n",
       "      <td>4702abd3f9728893ad5b0f4389e1902588510459</td>\n",
       "      <td>32926e7c55ef585d9b9c174a0e5f9ed13ed6bf7e</td>\n",
       "      <td>[ddf28352b80c86754a6424e3a61e8bdf9213b3c7]</td>\n",
       "      <td>{'name': 'Nicolas Pitre', 'email': '408789a210...</td>\n",
       "      <td>{'name': 'Arnd Bergmann', 'email': 'f2c659f019...</td>\n",
       "      <td>ARM: mach-nuc93x: delete</td>\n",
       "      <td>ARM: mach-nuc93x: delete\\n\\nThis architecture ...</td>\n",
       "      <td>[{'key': 'Signed-off-by', 'value': 'Nicolas Pi...</td>\n",
       "      <td>[{'old_mode': 33188.0, 'new_mode': 33188.0, 'o...</td>\n",
       "      <td>None</td>\n",
       "      <td>torvalds/linux</td>\n",
       "      <td>None</td>\n",
       "    </tr>\n",
       "    <tr>\n",
       "      <th>4</th>\n",
       "      <td>57bd4b91a6cfc5bad4c5d829ef85293ea63643ea</td>\n",
       "      <td>2ffc2066eb7638e185663e9d849663403229d4e5</td>\n",
       "      <td>[f74c95c20bad8e183e41283475f68a3e7b247af4]</td>\n",
       "      <td>{'name': 'Ben Dooks', 'email': '1177f64998f284...</td>\n",
       "      <td>{'name': 'Ben Dooks', 'email': '1177f64998f284...</td>\n",
       "      <td>[ARM] S3C24XX: Movev udc headers to arch/arm/p...</td>\n",
       "      <td>[ARM] S3C24XX: Movev udc headers to arch/arm/p...</td>\n",
       "      <td>[{'key': 'Signed-off-by', 'value': 'Ben Dooks ...</td>\n",
       "      <td>[{'old_mode': 33188.0, 'new_mode': 33188.0, 'o...</td>\n",
       "      <td>None</td>\n",
       "      <td>torvalds/linux</td>\n",
       "      <td>None</td>\n",
       "    </tr>\n",
       "  </tbody>\n",
       "</table>\n",
       "</div>"
      ],
      "text/plain": [
       "                                     commit  \\\n",
       "0  3eca86e75ec7a7d4b9a9c8091b11676f7bd2a39f   \n",
       "1  7158627686f02319c50c8d9d78f75d4c8d126ff2   \n",
       "2  9732cafd9dc0206479be919baf0067239f0a63ca   \n",
       "3  4702abd3f9728893ad5b0f4389e1902588510459   \n",
       "4  57bd4b91a6cfc5bad4c5d829ef85293ea63643ea   \n",
       "\n",
       "                                       tree  \\\n",
       "0  8e1b4380409a85a922ee0d3f622b5dd4d16bcfad   \n",
       "1  3b4d781bd966f07cad1b67b137f0ff8b89430e9a   \n",
       "2  c8878035ac9cb6dce592957f12dc1723a583989d   \n",
       "3  32926e7c55ef585d9b9c174a0e5f9ed13ed6bf7e   \n",
       "4  2ffc2066eb7638e185663e9d849663403229d4e5   \n",
       "\n",
       "                                       parent  \\\n",
       "0  [104a0c02e8b1936c049e18a6d4e4ab040fb61213]   \n",
       "1  [66aa8d6a145b6a66566b4fce219cc56c3d0e01c3]   \n",
       "2  [f3c003f72dfb2497056bcbb864885837a1968ed5]   \n",
       "3  [ddf28352b80c86754a6424e3a61e8bdf9213b3c7]   \n",
       "4  [f74c95c20bad8e183e41283475f68a3e7b247af4]   \n",
       "\n",
       "                                              author  \\\n",
       "0  {'name': 'Mark Rutland', 'email': '1db9dd262be...   \n",
       "1  {'name': 'Will Deacon', 'email': 'b913f13ef92a...   \n",
       "2  {'name': 'Jiang Liu', 'email': 'c745fa7b96fe79...   \n",
       "3  {'name': 'Nicolas Pitre', 'email': '408789a210...   \n",
       "4  {'name': 'Ben Dooks', 'email': '1177f64998f284...   \n",
       "\n",
       "                                           committer  \\\n",
       "0  {'name': 'Catalin Marinas', 'email': '15ce75b2...   \n",
       "1  {'name': 'Catalin Marinas', 'email': '15ce75b2...   \n",
       "2  {'name': 'Catalin Marinas', 'email': '15ce75b2...   \n",
       "3  {'name': 'Arnd Bergmann', 'email': 'f2c659f019...   \n",
       "4  {'name': 'Ben Dooks', 'email': '1177f64998f284...   \n",
       "\n",
       "                                             subject  \\\n",
       "0             arm64: Remove fixmap include fragility   \n",
       "1  arm64: percpu: implement optimised pcpu access...   \n",
       "2  arm64, jump label: optimize jump label impleme...   \n",
       "3                           ARM: mach-nuc93x: delete   \n",
       "4  [ARM] S3C24XX: Movev udc headers to arch/arm/p...   \n",
       "\n",
       "                                             message  \\\n",
       "0  arm64: Remove fixmap include fragility\\n\\nThe ...   \n",
       "1  arm64: percpu: implement optimised pcpu access...   \n",
       "2  arm64, jump label: optimize jump label impleme...   \n",
       "3  ARM: mach-nuc93x: delete\\n\\nThis architecture ...   \n",
       "4  [ARM] S3C24XX: Movev udc headers to arch/arm/p...   \n",
       "\n",
       "                                             trailer  \\\n",
       "0  [{'key': 'Signed-off-by', 'value': 'Mark Rutla...   \n",
       "1  [{'key': 'Signed-off-by', 'value': 'Will Deaco...   \n",
       "2  [{'key': 'Reviewed-by', 'value': 'Will Deacon ...   \n",
       "3  [{'key': 'Signed-off-by', 'value': 'Nicolas Pi...   \n",
       "4  [{'key': 'Signed-off-by', 'value': 'Ben Dooks ...   \n",
       "\n",
       "                                          difference difference_truncated  \\\n",
       "0  [{'old_mode': 33188.0, 'new_mode': 33188.0, 'o...                 None   \n",
       "1  [{'old_mode': 33188.0, 'new_mode': 33188.0, 'o...                 None   \n",
       "2  [{'old_mode': 33188.0, 'new_mode': 33188.0, 'o...                 None   \n",
       "3  [{'old_mode': 33188.0, 'new_mode': 33188.0, 'o...                 None   \n",
       "4  [{'old_mode': 33188.0, 'new_mode': 33188.0, 'o...                 None   \n",
       "\n",
       "        repo_name encoding  \n",
       "0  torvalds/linux     None  \n",
       "1  torvalds/linux     None  \n",
       "2  torvalds/linux     None  \n",
       "3  torvalds/linux     None  \n",
       "4  torvalds/linux     None  "
      ]
     },
     "execution_count": 2,
     "metadata": {},
     "output_type": "execute_result"
    }
   ],
   "source": [
    "from google.cloud import bigquery\n",
    "\n",
    "# Create a \"Client\" object\n",
    "client = bigquery.Client()\n",
    "\n",
    "# Construct a reference to the \"github_repos\" dataset\n",
    "dataset_ref = client.dataset(\"github_repos\", project=\"bigquery-public-data\")\n",
    "\n",
    "# API request - fetch the dataset\n",
    "dataset = client.get_dataset(dataset_ref)\n",
    "\n",
    "# Construct a reference to the \"sample_commits\" table\n",
    "table_ref = dataset_ref.table(\"sample_commits\")\n",
    "\n",
    "# API request - fetch the table\n",
    "sample_commits_table = client.get_table(table_ref)\n",
    "\n",
    "# Preview the first five lines of the table\n",
    "client.list_rows(sample_commits_table, max_results=5).to_dataframe()"
   ]
  },
  {
   "cell_type": "markdown",
   "id": "a148a31d",
   "metadata": {
    "papermill": {
     "duration": 0.00616,
     "end_time": "2022-08-29T17:16:06.322104",
     "exception": false,
     "start_time": "2022-08-29T17:16:06.315944",
     "status": "completed"
    },
    "tags": []
   },
   "source": [
    "Run the next code cell to print the table schema. "
   ]
  },
  {
   "cell_type": "code",
   "execution_count": 3,
   "id": "32a0f897",
   "metadata": {
    "execution": {
     "iopub.execute_input": "2022-08-29T17:16:06.337298Z",
     "iopub.status.busy": "2022-08-29T17:16:06.336832Z",
     "iopub.status.idle": "2022-08-29T17:16:06.344825Z",
     "shell.execute_reply": "2022-08-29T17:16:06.343705Z"
    },
    "papermill": {
     "duration": 0.019283,
     "end_time": "2022-08-29T17:16:06.347851",
     "exception": false,
     "start_time": "2022-08-29T17:16:06.328568",
     "status": "completed"
    },
    "tags": []
   },
   "outputs": [
    {
     "data": {
      "text/plain": [
       "[SchemaField('commit', 'STRING', 'NULLABLE', None, (), None),\n",
       " SchemaField('tree', 'STRING', 'NULLABLE', None, (), None),\n",
       " SchemaField('parent', 'STRING', 'REPEATED', None, (), None),\n",
       " SchemaField('author', 'RECORD', 'NULLABLE', None, (SchemaField('name', 'STRING', 'NULLABLE', None, (), None), SchemaField('email', 'STRING', 'NULLABLE', None, (), None), SchemaField('time_sec', 'INTEGER', 'NULLABLE', None, (), None), SchemaField('tz_offset', 'INTEGER', 'NULLABLE', None, (), None), SchemaField('date', 'TIMESTAMP', 'NULLABLE', None, (), None)), None),\n",
       " SchemaField('committer', 'RECORD', 'NULLABLE', None, (SchemaField('name', 'STRING', 'NULLABLE', None, (), None), SchemaField('email', 'STRING', 'NULLABLE', None, (), None), SchemaField('time_sec', 'INTEGER', 'NULLABLE', None, (), None), SchemaField('tz_offset', 'INTEGER', 'NULLABLE', None, (), None), SchemaField('date', 'TIMESTAMP', 'NULLABLE', None, (), None)), None),\n",
       " SchemaField('subject', 'STRING', 'NULLABLE', None, (), None),\n",
       " SchemaField('message', 'STRING', 'NULLABLE', None, (), None),\n",
       " SchemaField('trailer', 'RECORD', 'REPEATED', None, (SchemaField('key', 'STRING', 'NULLABLE', None, (), None), SchemaField('value', 'STRING', 'NULLABLE', None, (), None), SchemaField('email', 'STRING', 'NULLABLE', None, (), None)), None),\n",
       " SchemaField('difference', 'RECORD', 'REPEATED', None, (SchemaField('old_mode', 'INTEGER', 'NULLABLE', None, (), None), SchemaField('new_mode', 'INTEGER', 'NULLABLE', None, (), None), SchemaField('old_path', 'STRING', 'NULLABLE', None, (), None), SchemaField('new_path', 'STRING', 'NULLABLE', None, (), None), SchemaField('old_sha1', 'STRING', 'NULLABLE', None, (), None), SchemaField('new_sha1', 'STRING', 'NULLABLE', None, (), None), SchemaField('old_repo', 'STRING', 'NULLABLE', None, (), None), SchemaField('new_repo', 'STRING', 'NULLABLE', None, (), None)), None),\n",
       " SchemaField('difference_truncated', 'BOOLEAN', 'NULLABLE', None, (), None),\n",
       " SchemaField('repo_name', 'STRING', 'NULLABLE', None, (), None),\n",
       " SchemaField('encoding', 'STRING', 'NULLABLE', None, (), None)]"
      ]
     },
     "execution_count": 3,
     "metadata": {},
     "output_type": "execute_result"
    }
   ],
   "source": [
    "# Print information on all the columns in the table\n",
    "sample_commits_table.schema"
   ]
  },
  {
   "cell_type": "markdown",
   "id": "7d091870",
   "metadata": {
    "papermill": {
     "duration": 0.006344,
     "end_time": "2022-08-29T17:16:06.361255",
     "exception": false,
     "start_time": "2022-08-29T17:16:06.354911",
     "status": "completed"
    },
    "tags": []
   },
   "source": [
    "Write a query to find the individuals with the most commits in this table in 2016.  Your query should return a table with two columns:\n",
    "- `committer_name` - contains the name of each individual with a commit (from 2016) in the table\n",
    "- `num_commits` - shows the number of commits the individual has in the table (from 2016)\n",
    "\n",
    "Sort the table, so that people with more commits appear first.\n",
    "\n",
    "**NOTE**: You can find the name of each committer and the date of the commit under the \"committer\" column, in the \"name\" and \"date\" child fields, respectively."
   ]
  },
  {
   "cell_type": "code",
   "execution_count": 4,
   "id": "4ee3b5f8",
   "metadata": {
    "execution": {
     "iopub.execute_input": "2022-08-29T17:16:06.377577Z",
     "iopub.status.busy": "2022-08-29T17:16:06.376354Z",
     "iopub.status.idle": "2022-08-29T17:16:07.660172Z",
     "shell.execute_reply": "2022-08-29T17:16:07.658928Z"
    },
    "papermill": {
     "duration": 1.294814,
     "end_time": "2022-08-29T17:16:07.662722",
     "exception": false,
     "start_time": "2022-08-29T17:16:06.367908",
     "status": "completed"
    },
    "tags": []
   },
   "outputs": [
    {
     "name": "stderr",
     "output_type": "stream",
     "text": [
      "/opt/conda/lib/python3.7/site-packages/google/cloud/bigquery/client.py:440: UserWarning: Cannot create BigQuery Storage client, the dependency google-cloud-bigquery-storage is not installed.\n",
      "  \"Cannot create BigQuery Storage client, the dependency \"\n"
     ]
    },
    {
     "data": {
      "text/html": [
       "<div>\n",
       "<style scoped>\n",
       "    .dataframe tbody tr th:only-of-type {\n",
       "        vertical-align: middle;\n",
       "    }\n",
       "\n",
       "    .dataframe tbody tr th {\n",
       "        vertical-align: top;\n",
       "    }\n",
       "\n",
       "    .dataframe thead th {\n",
       "        text-align: right;\n",
       "    }\n",
       "</style>\n",
       "<table border=\"1\" class=\"dataframe\">\n",
       "  <thead>\n",
       "    <tr style=\"text-align: right;\">\n",
       "      <th></th>\n",
       "      <th>committer_name</th>\n",
       "      <th>num_commits</th>\n",
       "    </tr>\n",
       "  </thead>\n",
       "  <tbody>\n",
       "    <tr>\n",
       "      <th>0</th>\n",
       "      <td>Greg Kroah-Hartman</td>\n",
       "      <td>3545</td>\n",
       "    </tr>\n",
       "    <tr>\n",
       "      <th>1</th>\n",
       "      <td>David S. Miller</td>\n",
       "      <td>3120</td>\n",
       "    </tr>\n",
       "    <tr>\n",
       "      <th>2</th>\n",
       "      <td>TensorFlower Gardener</td>\n",
       "      <td>2449</td>\n",
       "    </tr>\n",
       "    <tr>\n",
       "      <th>3</th>\n",
       "      <td>Linus Torvalds</td>\n",
       "      <td>2424</td>\n",
       "    </tr>\n",
       "    <tr>\n",
       "      <th>4</th>\n",
       "      <td>Benjamin Pasero</td>\n",
       "      <td>1127</td>\n",
       "    </tr>\n",
       "  </tbody>\n",
       "</table>\n",
       "</div>"
      ],
      "text/plain": [
       "          committer_name  num_commits\n",
       "0     Greg Kroah-Hartman         3545\n",
       "1        David S. Miller         3120\n",
       "2  TensorFlower Gardener         2449\n",
       "3         Linus Torvalds         2424\n",
       "4        Benjamin Pasero         1127"
      ]
     },
     "metadata": {},
     "output_type": "display_data"
    },
    {
     "data": {
      "application/javascript": [
       "parent.postMessage({\"jupyterEvent\": \"custom.exercise_interaction\", \"data\": {\"outcomeType\": 1, \"valueTowardsCompletion\": 0.25, \"interactionType\": 1, \"questionType\": 2, \"questionId\": \"1_MaxCommits\", \"learnToolsVersion\": \"0.3.4\", \"failureMessage\": \"\", \"exceptionClass\": \"\", \"trace\": \"\"}}, \"*\")"
      ],
      "text/plain": [
       "<IPython.core.display.Javascript object>"
      ]
     },
     "metadata": {},
     "output_type": "display_data"
    },
    {
     "data": {
      "text/markdown": [
       "<span style=\"color:#33cc33\">Correct</span>"
      ],
      "text/plain": [
       "Correct"
      ]
     },
     "metadata": {},
     "output_type": "display_data"
    }
   ],
   "source": [
    "# Write a query to find the answer\n",
    "max_commits_query = \"\"\"\n",
    "                    SELECT committer.name AS committer_name,\n",
    "                           COUNT(1) AS num_commits\n",
    "                    FROM `bigquery-public-data.github_repos.sample_commits`\n",
    "                    WHERE EXTRACT(YEAR from committer.date) = 2016\n",
    "                    GROUP BY committer_name\n",
    "                    ORDER BY num_commits DESC\n",
    "                    \"\"\"\n",
    "\n",
    "# Check your answer\n",
    "q_1.check()"
   ]
  },
  {
   "cell_type": "code",
   "execution_count": 5,
   "id": "20fee7cb",
   "metadata": {
    "execution": {
     "iopub.execute_input": "2022-08-29T17:16:07.679256Z",
     "iopub.status.busy": "2022-08-29T17:16:07.678323Z",
     "iopub.status.idle": "2022-08-29T17:16:07.682520Z",
     "shell.execute_reply": "2022-08-29T17:16:07.681709Z"
    },
    "papermill": {
     "duration": 0.014732,
     "end_time": "2022-08-29T17:16:07.684655",
     "exception": false,
     "start_time": "2022-08-29T17:16:07.669923",
     "status": "completed"
    },
    "tags": []
   },
   "outputs": [],
   "source": [
    "# Lines below will give you a hint or solution code\n",
    "#q_1.hint()\n",
    "#q_1.solution()"
   ]
  },
  {
   "cell_type": "markdown",
   "id": "e6db9e69",
   "metadata": {
    "papermill": {
     "duration": 0.006711,
     "end_time": "2022-08-29T17:16:07.698420",
     "exception": false,
     "start_time": "2022-08-29T17:16:07.691709",
     "status": "completed"
    },
    "tags": []
   },
   "source": [
    "### 2) Look at languages!\n",
    "\n",
    "Now you will work with the `languages` table.  Run the code cell below to print the first few rows."
   ]
  },
  {
   "cell_type": "code",
   "execution_count": 6,
   "id": "60287b9f",
   "metadata": {
    "execution": {
     "iopub.execute_input": "2022-08-29T17:16:07.714696Z",
     "iopub.status.busy": "2022-08-29T17:16:07.714255Z",
     "iopub.status.idle": "2022-08-29T17:16:08.371977Z",
     "shell.execute_reply": "2022-08-29T17:16:08.370989Z"
    },
    "papermill": {
     "duration": 0.669046,
     "end_time": "2022-08-29T17:16:08.374821",
     "exception": false,
     "start_time": "2022-08-29T17:16:07.705775",
     "status": "completed"
    },
    "tags": []
   },
   "outputs": [
    {
     "name": "stderr",
     "output_type": "stream",
     "text": [
      "/opt/conda/lib/python3.7/site-packages/ipykernel_launcher.py:8: UserWarning: Cannot use bqstorage_client if max_results is set, reverting to fetching data with the tabledata.list endpoint.\n",
      "  \n"
     ]
    },
    {
     "data": {
      "text/html": [
       "<div>\n",
       "<style scoped>\n",
       "    .dataframe tbody tr th:only-of-type {\n",
       "        vertical-align: middle;\n",
       "    }\n",
       "\n",
       "    .dataframe tbody tr th {\n",
       "        vertical-align: top;\n",
       "    }\n",
       "\n",
       "    .dataframe thead th {\n",
       "        text-align: right;\n",
       "    }\n",
       "</style>\n",
       "<table border=\"1\" class=\"dataframe\">\n",
       "  <thead>\n",
       "    <tr style=\"text-align: right;\">\n",
       "      <th></th>\n",
       "      <th>repo_name</th>\n",
       "      <th>language</th>\n",
       "    </tr>\n",
       "  </thead>\n",
       "  <tbody>\n",
       "    <tr>\n",
       "      <th>0</th>\n",
       "      <td>grisxa/EXII-Tool</td>\n",
       "      <td>[{'name': 'C', 'bytes': 25234}]</td>\n",
       "    </tr>\n",
       "    <tr>\n",
       "      <th>1</th>\n",
       "      <td>wavelee/msp430</td>\n",
       "      <td>[{'name': 'C', 'bytes': 4251}]</td>\n",
       "    </tr>\n",
       "    <tr>\n",
       "      <th>2</th>\n",
       "      <td>NoNeedToBeUpset/lispcalc</td>\n",
       "      <td>[{'name': 'C', 'bytes': 23362}]</td>\n",
       "    </tr>\n",
       "    <tr>\n",
       "      <th>3</th>\n",
       "      <td>olibre/CppUsefullBasics</td>\n",
       "      <td>[{'name': 'C', 'bytes': 13315}]</td>\n",
       "    </tr>\n",
       "    <tr>\n",
       "      <th>4</th>\n",
       "      <td>koraa/annot</td>\n",
       "      <td>[{'name': 'C', 'bytes': 18735}]</td>\n",
       "    </tr>\n",
       "  </tbody>\n",
       "</table>\n",
       "</div>"
      ],
      "text/plain": [
       "                  repo_name                         language\n",
       "0          grisxa/EXII-Tool  [{'name': 'C', 'bytes': 25234}]\n",
       "1            wavelee/msp430   [{'name': 'C', 'bytes': 4251}]\n",
       "2  NoNeedToBeUpset/lispcalc  [{'name': 'C', 'bytes': 23362}]\n",
       "3   olibre/CppUsefullBasics  [{'name': 'C', 'bytes': 13315}]\n",
       "4               koraa/annot  [{'name': 'C', 'bytes': 18735}]"
      ]
     },
     "execution_count": 6,
     "metadata": {},
     "output_type": "execute_result"
    }
   ],
   "source": [
    "# Construct a reference to the \"languages\" table\n",
    "table_ref = dataset_ref.table(\"languages\")\n",
    "\n",
    "# API request - fetch the table\n",
    "languages_table = client.get_table(table_ref)\n",
    "\n",
    "# Preview the first five lines of the table\n",
    "client.list_rows(languages_table, max_results=5).to_dataframe()"
   ]
  },
  {
   "cell_type": "markdown",
   "id": "4fd9fddd",
   "metadata": {
    "papermill": {
     "duration": 0.007572,
     "end_time": "2022-08-29T17:16:08.389637",
     "exception": false,
     "start_time": "2022-08-29T17:16:08.382065",
     "status": "completed"
    },
    "tags": []
   },
   "source": [
    "Each row of the `languages` table corresponds to a different repository.  \n",
    "- The \"repo_name\" column contains the name of the repository,\n",
    "- the \"name\" field in the \"language\" column contains the programming languages that can be found in the repo, and \n",
    "- the \"bytes\" field in the \"language\" column has the size of the files (in bytes, for the corresponding language).\n",
    "\n",
    "Run the following code cell to print the table schema."
   ]
  },
  {
   "cell_type": "code",
   "execution_count": 7,
   "id": "8715ead3",
   "metadata": {
    "execution": {
     "iopub.execute_input": "2022-08-29T17:16:08.406359Z",
     "iopub.status.busy": "2022-08-29T17:16:08.405039Z",
     "iopub.status.idle": "2022-08-29T17:16:08.412549Z",
     "shell.execute_reply": "2022-08-29T17:16:08.411626Z"
    },
    "papermill": {
     "duration": 0.018265,
     "end_time": "2022-08-29T17:16:08.414774",
     "exception": false,
     "start_time": "2022-08-29T17:16:08.396509",
     "status": "completed"
    },
    "tags": []
   },
   "outputs": [
    {
     "data": {
      "text/plain": [
       "[SchemaField('repo_name', 'STRING', 'NULLABLE', None, (), None),\n",
       " SchemaField('language', 'RECORD', 'REPEATED', None, (SchemaField('name', 'STRING', 'NULLABLE', None, (), None), SchemaField('bytes', 'INTEGER', 'NULLABLE', None, (), None)), None)]"
      ]
     },
     "execution_count": 7,
     "metadata": {},
     "output_type": "execute_result"
    }
   ],
   "source": [
    "# Print information on all the columns in the table\n",
    "languages_table.schema"
   ]
  },
  {
   "cell_type": "markdown",
   "id": "b2502bdd",
   "metadata": {
    "papermill": {
     "duration": 0.007019,
     "end_time": "2022-08-29T17:16:08.429236",
     "exception": false,
     "start_time": "2022-08-29T17:16:08.422217",
     "status": "completed"
    },
    "tags": []
   },
   "source": [
    "Assume for the moment that you have access to a table called `sample_languages` that contains only a very small subset of the rows from the `languages` table: in fact, it contains only three rows!  This table is depicted in the image below.\n",
    "\n",
    "![](https://i.imgur.com/qAb5lZ2.png)\n",
    "\n",
    "How many rows are in the table returned by the query below?\n",
    "\n",
    "![](https://i.imgur.com/Q5qYAtz.png)\n",
    "\n",
    "Fill in your answer in the next code cell."
   ]
  },
  {
   "cell_type": "code",
   "execution_count": 8,
   "id": "226c4c9f",
   "metadata": {
    "execution": {
     "iopub.execute_input": "2022-08-29T17:16:08.446180Z",
     "iopub.status.busy": "2022-08-29T17:16:08.445393Z",
     "iopub.status.idle": "2022-08-29T17:16:08.456574Z",
     "shell.execute_reply": "2022-08-29T17:16:08.455700Z"
    },
    "papermill": {
     "duration": 0.022315,
     "end_time": "2022-08-29T17:16:08.458763",
     "exception": false,
     "start_time": "2022-08-29T17:16:08.436448",
     "status": "completed"
    },
    "tags": []
   },
   "outputs": [
    {
     "data": {
      "application/javascript": [
       "parent.postMessage({\"jupyterEvent\": \"custom.exercise_interaction\", \"data\": {\"outcomeType\": 1, \"valueTowardsCompletion\": 0.25, \"interactionType\": 1, \"questionType\": 1, \"questionId\": \"2_LookLang\", \"learnToolsVersion\": \"0.3.4\", \"failureMessage\": \"\", \"exceptionClass\": \"\", \"trace\": \"\"}}, \"*\")"
      ],
      "text/plain": [
       "<IPython.core.display.Javascript object>"
      ]
     },
     "metadata": {},
     "output_type": "display_data"
    },
    {
     "data": {
      "text/markdown": [
       "<span style=\"color:#33cc33\">Correct</span>"
      ],
      "text/plain": [
       "Correct"
      ]
     },
     "metadata": {},
     "output_type": "display_data"
    }
   ],
   "source": [
    "# Fill in the blank\n",
    "num_rows = 6\n",
    "\n",
    "# Check your answer\n",
    "q_2.check()"
   ]
  },
  {
   "cell_type": "code",
   "execution_count": 9,
   "id": "b90aae99",
   "metadata": {
    "execution": {
     "iopub.execute_input": "2022-08-29T17:16:08.476437Z",
     "iopub.status.busy": "2022-08-29T17:16:08.475628Z",
     "iopub.status.idle": "2022-08-29T17:16:08.479635Z",
     "shell.execute_reply": "2022-08-29T17:16:08.478869Z"
    },
    "papermill": {
     "duration": 0.015421,
     "end_time": "2022-08-29T17:16:08.481727",
     "exception": false,
     "start_time": "2022-08-29T17:16:08.466306",
     "status": "completed"
    },
    "tags": []
   },
   "outputs": [],
   "source": [
    "# Lines below will give you a hint or solution code\n",
    "#q_2.hint()\n",
    "#q_2.solution()"
   ]
  },
  {
   "cell_type": "markdown",
   "id": "fd9adee8",
   "metadata": {
    "papermill": {
     "duration": 0.00717,
     "end_time": "2022-08-29T17:16:08.496346",
     "exception": false,
     "start_time": "2022-08-29T17:16:08.489176",
     "status": "completed"
    },
    "tags": []
   },
   "source": [
    "### 3) What's the most popular programming language?\n",
    "\n",
    "Write a query to leverage the information in the `languages` table to determine which programming languages appear in the most repositories.  The table returned by your query should have two columns:\n",
    "- `language_name` - the name of the programming language\n",
    "- `num_repos` - the number of repositories in the `languages` table that use the programming language\n",
    "\n",
    "Sort the table so that languages that appear in more repos are shown first."
   ]
  },
  {
   "cell_type": "code",
   "execution_count": 10,
   "id": "9e8ccb21",
   "metadata": {
    "execution": {
     "iopub.execute_input": "2022-08-29T17:16:08.514034Z",
     "iopub.status.busy": "2022-08-29T17:16:08.513179Z",
     "iopub.status.idle": "2022-08-29T17:16:09.640889Z",
     "shell.execute_reply": "2022-08-29T17:16:09.639697Z"
    },
    "papermill": {
     "duration": 1.139461,
     "end_time": "2022-08-29T17:16:09.643269",
     "exception": false,
     "start_time": "2022-08-29T17:16:08.503808",
     "status": "completed"
    },
    "tags": []
   },
   "outputs": [
    {
     "name": "stderr",
     "output_type": "stream",
     "text": [
      "/opt/conda/lib/python3.7/site-packages/google/cloud/bigquery/client.py:440: UserWarning: Cannot create BigQuery Storage client, the dependency google-cloud-bigquery-storage is not installed.\n",
      "  \"Cannot create BigQuery Storage client, the dependency \"\n"
     ]
    },
    {
     "data": {
      "text/html": [
       "<div>\n",
       "<style scoped>\n",
       "    .dataframe tbody tr th:only-of-type {\n",
       "        vertical-align: middle;\n",
       "    }\n",
       "\n",
       "    .dataframe tbody tr th {\n",
       "        vertical-align: top;\n",
       "    }\n",
       "\n",
       "    .dataframe thead th {\n",
       "        text-align: right;\n",
       "    }\n",
       "</style>\n",
       "<table border=\"1\" class=\"dataframe\">\n",
       "  <thead>\n",
       "    <tr style=\"text-align: right;\">\n",
       "      <th></th>\n",
       "      <th>language_name</th>\n",
       "      <th>num_repos</th>\n",
       "    </tr>\n",
       "  </thead>\n",
       "  <tbody>\n",
       "    <tr>\n",
       "      <th>0</th>\n",
       "      <td>JavaScript</td>\n",
       "      <td>1099885</td>\n",
       "    </tr>\n",
       "    <tr>\n",
       "      <th>1</th>\n",
       "      <td>CSS</td>\n",
       "      <td>808466</td>\n",
       "    </tr>\n",
       "    <tr>\n",
       "      <th>2</th>\n",
       "      <td>HTML</td>\n",
       "      <td>777521</td>\n",
       "    </tr>\n",
       "    <tr>\n",
       "      <th>3</th>\n",
       "      <td>Shell</td>\n",
       "      <td>640055</td>\n",
       "    </tr>\n",
       "    <tr>\n",
       "      <th>4</th>\n",
       "      <td>Python</td>\n",
       "      <td>550235</td>\n",
       "    </tr>\n",
       "  </tbody>\n",
       "</table>\n",
       "</div>"
      ],
      "text/plain": [
       "  language_name  num_repos\n",
       "0    JavaScript    1099885\n",
       "1           CSS     808466\n",
       "2          HTML     777521\n",
       "3         Shell     640055\n",
       "4        Python     550235"
      ]
     },
     "metadata": {},
     "output_type": "display_data"
    },
    {
     "data": {
      "application/javascript": [
       "parent.postMessage({\"jupyterEvent\": \"custom.exercise_interaction\", \"data\": {\"outcomeType\": 1, \"valueTowardsCompletion\": 0.25, \"interactionType\": 1, \"questionType\": 2, \"questionId\": \"3_PopLang\", \"learnToolsVersion\": \"0.3.4\", \"failureMessage\": \"\", \"exceptionClass\": \"\", \"trace\": \"\"}}, \"*\")"
      ],
      "text/plain": [
       "<IPython.core.display.Javascript object>"
      ]
     },
     "metadata": {},
     "output_type": "display_data"
    },
    {
     "data": {
      "text/markdown": [
       "<span style=\"color:#33cc33\">Correct</span>"
      ],
      "text/plain": [
       "Correct"
      ]
     },
     "metadata": {},
     "output_type": "display_data"
    }
   ],
   "source": [
    "# Write a query to find the answer\n",
    "pop_lang_query = \"\"\"\n",
    "                 SELECT l.name AS language_name,\n",
    "                        COUNT(1) AS num_repos\n",
    "                 FROM `bigquery-public-data.github_repos.languages`,\n",
    "                     UNNEST(language) AS l\n",
    "                 GROUP BY language_name\n",
    "                 ORDER BY num_repos DESC\n",
    "                 \"\"\"\n",
    "\n",
    "# Check your answer\n",
    "q_3.check()"
   ]
  },
  {
   "cell_type": "code",
   "execution_count": 11,
   "id": "43b0f6c1",
   "metadata": {
    "execution": {
     "iopub.execute_input": "2022-08-29T17:16:09.661418Z",
     "iopub.status.busy": "2022-08-29T17:16:09.660997Z",
     "iopub.status.idle": "2022-08-29T17:16:09.665750Z",
     "shell.execute_reply": "2022-08-29T17:16:09.664641Z"
    },
    "papermill": {
     "duration": 0.016601,
     "end_time": "2022-08-29T17:16:09.668007",
     "exception": false,
     "start_time": "2022-08-29T17:16:09.651406",
     "status": "completed"
    },
    "tags": []
   },
   "outputs": [],
   "source": [
    "# Lines below will give you a hint or solution code\n",
    "#q_3.hint()\n",
    "#q_3.solution()"
   ]
  },
  {
   "cell_type": "markdown",
   "id": "7f1de534",
   "metadata": {
    "papermill": {
     "duration": 0.007901,
     "end_time": "2022-08-29T17:16:09.684010",
     "exception": false,
     "start_time": "2022-08-29T17:16:09.676109",
     "status": "completed"
    },
    "tags": []
   },
   "source": [
    "### 4) Which languages are used in the repository with the most languages?\n",
    "\n",
    "For this question, you'll restrict your attention to the repository with name `'polyrabbit/polyglot'`.\n",
    "\n",
    "Write a query that returns a table with one row for each language in this repository.  The table should have two columns:\n",
    "- `name` - the name of the programming language\n",
    "- `bytes` - the total number of bytes of that programming language\n",
    "\n",
    "Sort the table by the `bytes` column so that programming languages that take up more space in the repo appear first."
   ]
  },
  {
   "cell_type": "code",
   "execution_count": 12,
   "id": "80e4640b",
   "metadata": {
    "execution": {
     "iopub.execute_input": "2022-08-29T17:16:09.702082Z",
     "iopub.status.busy": "2022-08-29T17:16:09.701719Z",
     "iopub.status.idle": "2022-08-29T17:16:10.743564Z",
     "shell.execute_reply": "2022-08-29T17:16:10.742144Z"
    },
    "papermill": {
     "duration": 1.053994,
     "end_time": "2022-08-29T17:16:10.746194",
     "exception": false,
     "start_time": "2022-08-29T17:16:09.692200",
     "status": "completed"
    },
    "tags": []
   },
   "outputs": [
    {
     "name": "stderr",
     "output_type": "stream",
     "text": [
      "/opt/conda/lib/python3.7/site-packages/google/cloud/bigquery/client.py:440: UserWarning: Cannot create BigQuery Storage client, the dependency google-cloud-bigquery-storage is not installed.\n",
      "  \"Cannot create BigQuery Storage client, the dependency \"\n"
     ]
    },
    {
     "data": {
      "text/html": [
       "<div>\n",
       "<style scoped>\n",
       "    .dataframe tbody tr th:only-of-type {\n",
       "        vertical-align: middle;\n",
       "    }\n",
       "\n",
       "    .dataframe tbody tr th {\n",
       "        vertical-align: top;\n",
       "    }\n",
       "\n",
       "    .dataframe thead th {\n",
       "        text-align: right;\n",
       "    }\n",
       "</style>\n",
       "<table border=\"1\" class=\"dataframe\">\n",
       "  <thead>\n",
       "    <tr style=\"text-align: right;\">\n",
       "      <th></th>\n",
       "      <th>name</th>\n",
       "      <th>bytes</th>\n",
       "    </tr>\n",
       "  </thead>\n",
       "  <tbody>\n",
       "    <tr>\n",
       "      <th>0</th>\n",
       "      <td>Lasso</td>\n",
       "      <td>834726</td>\n",
       "    </tr>\n",
       "    <tr>\n",
       "      <th>1</th>\n",
       "      <td>C</td>\n",
       "      <td>819142</td>\n",
       "    </tr>\n",
       "    <tr>\n",
       "      <th>2</th>\n",
       "      <td>Mercury</td>\n",
       "      <td>709952</td>\n",
       "    </tr>\n",
       "    <tr>\n",
       "      <th>3</th>\n",
       "      <td>Objective-C</td>\n",
       "      <td>495392</td>\n",
       "    </tr>\n",
       "    <tr>\n",
       "      <th>4</th>\n",
       "      <td>Game Maker Language</td>\n",
       "      <td>298131</td>\n",
       "    </tr>\n",
       "  </tbody>\n",
       "</table>\n",
       "</div>"
      ],
      "text/plain": [
       "                  name   bytes\n",
       "0                Lasso  834726\n",
       "1                    C  819142\n",
       "2              Mercury  709952\n",
       "3          Objective-C  495392\n",
       "4  Game Maker Language  298131"
      ]
     },
     "metadata": {},
     "output_type": "display_data"
    },
    {
     "data": {
      "application/javascript": [
       "parent.postMessage({\"jupyterEvent\": \"custom.exercise_interaction\", \"data\": {\"outcomeType\": 1, \"valueTowardsCompletion\": 0.25, \"interactionType\": 1, \"questionType\": 2, \"questionId\": \"4_AllLangs\", \"learnToolsVersion\": \"0.3.4\", \"failureMessage\": \"\", \"exceptionClass\": \"\", \"trace\": \"\"}}, \"*\")"
      ],
      "text/plain": [
       "<IPython.core.display.Javascript object>"
      ]
     },
     "metadata": {},
     "output_type": "display_data"
    },
    {
     "data": {
      "text/markdown": [
       "<span style=\"color:#33cc33\">Correct</span>"
      ],
      "text/plain": [
       "Correct"
      ]
     },
     "metadata": {},
     "output_type": "display_data"
    }
   ],
   "source": [
    "# Your code here\n",
    "all_langs_query = \"\"\"\n",
    "                  SELECT l.name AS name,\n",
    "                         SUM(l.bytes) AS bytes\n",
    "                  FROM `bigquery-public-data.github_repos.languages`,\n",
    "                      UNNEST(language) AS l\n",
    "                  WHERE repo_name = 'polyrabbit/polyglot'\n",
    "                  GROUP BY l.name\n",
    "                  ORDER BY bytes DESC\n",
    "                  \"\"\"\n",
    "\n",
    "# Check your answer\n",
    "q_4.check()"
   ]
  },
  {
   "cell_type": "code",
   "execution_count": 13,
   "id": "698c65cd",
   "metadata": {
    "execution": {
     "iopub.execute_input": "2022-08-29T17:16:10.766297Z",
     "iopub.status.busy": "2022-08-29T17:16:10.765920Z",
     "iopub.status.idle": "2022-08-29T17:16:10.770301Z",
     "shell.execute_reply": "2022-08-29T17:16:10.769082Z"
    },
    "papermill": {
     "duration": 0.017241,
     "end_time": "2022-08-29T17:16:10.772517",
     "exception": false,
     "start_time": "2022-08-29T17:16:10.755276",
     "status": "completed"
    },
    "tags": []
   },
   "outputs": [],
   "source": [
    "# Lines below will give you a hint or solution code\n",
    "#q_4.hint()\n",
    "#q_4.solution()"
   ]
  },
  {
   "cell_type": "markdown",
   "id": "ec54b1e9",
   "metadata": {
    "papermill": {
     "duration": 0.008522,
     "end_time": "2022-08-29T17:16:10.789932",
     "exception": false,
     "start_time": "2022-08-29T17:16:10.781410",
     "status": "completed"
    },
    "tags": []
   },
   "source": [
    "# Keep going\n",
    "\n",
    "Learn how to make your queries **[more efficient](https://www.kaggle.com/alexisbcook/writing-efficient-queries)**."
   ]
  },
  {
   "cell_type": "markdown",
   "id": "a026af06",
   "metadata": {
    "papermill": {
     "duration": 0.008715,
     "end_time": "2022-08-29T17:16:10.808047",
     "exception": false,
     "start_time": "2022-08-29T17:16:10.799332",
     "status": "completed"
    },
    "tags": []
   },
   "source": [
    "---\n",
    "\n",
    "\n",
    "\n",
    "\n",
    "*Have questions or comments? Visit the [course discussion forum](https://www.kaggle.com/learn/advanced-sql/discussion) to chat with other learners.*"
   ]
  }
 ],
 "metadata": {
  "kernelspec": {
   "display_name": "Python 3",
   "language": "python",
   "name": "python3"
  },
  "language_info": {
   "codemirror_mode": {
    "name": "ipython",
    "version": 3
   },
   "file_extension": ".py",
   "mimetype": "text/x-python",
   "name": "python",
   "nbconvert_exporter": "python",
   "pygments_lexer": "ipython3",
   "version": "3.7.12"
  },
  "papermill": {
   "default_parameters": {},
   "duration": 19.148415,
   "end_time": "2022-08-29T17:16:11.540968",
   "environment_variables": {},
   "exception": null,
   "input_path": "__notebook__.ipynb",
   "output_path": "__notebook__.ipynb",
   "parameters": {},
   "start_time": "2022-08-29T17:15:52.392553",
   "version": "2.3.4"
  }
 },
 "nbformat": 4,
 "nbformat_minor": 5
}
